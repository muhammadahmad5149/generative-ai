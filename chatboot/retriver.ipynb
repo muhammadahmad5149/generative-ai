{
 "cells": [
  {
   "cell_type": "code",
   "execution_count": 3,
   "id": "1885deb9",
   "metadata": {},
   "outputs": [
    {
     "name": "stdout",
     "output_type": "stream",
     "text": [
      "Retriever created\n"
     ]
    }
   ],
   "source": [
    "from typing import TypedDict, Annotated\n",
    "from langchain_core.messages import BaseMessage, HumanMessage, SystemMessage\n",
    "from langgraph.graph.message import add_messages\n",
    "from langgraph.graph import START, StateGraph,END\n",
    "from langchain_ollama import OllamaLLM, OllamaEmbeddings\n",
    "from langgraph.checkpoint.memory import MemorySaver\n",
    "from langchain_community.document_loaders import TextLoader\n",
    "from langchain.text_splitter import CharacterTextSplitter\n",
    "from langchain_ollama import ChatOllama\n",
    "from langchain.vectorstores import Chroma\n",
    "from langgraph.prebuilt import ToolNode\n",
    "from langgraph.prebuilt import tools_condition\n",
    "from langchain_core.prompts import ChatPromptTemplate\n",
    "import os\n",
    "\n",
    "# --- Create the retriever BEFORE the graph ---\n",
    "def get_retriever():\n",
    "    embeddings = OllamaEmbeddings(model=\"mxbai-embed-large\", base_url=\"http://localhost:11434\")\n",
    "    loader = TextLoader(\"product_help.txt\")\n",
    "    text_splitter = CharacterTextSplitter(chunk_size=500, chunk_overlap=100)\n",
    "    documents = loader.load()\n",
    "    docs = text_splitter.split_documents(documents)\n",
    "\n",
    "    persist_directory = os.path.abspath(\"chroma_db\")\n",
    "\n",
    "    vectorstore = Chroma.from_documents(\n",
    "        documents=docs,\n",
    "        embedding=embeddings,\n",
    "        collection_name= 'rag-chroma',\n",
    "        persist_directory=persist_directory,\n",
    "    )\n",
    "\n",
    "    print(\"Retriever created\")\n",
    "    return vectorstore.as_retriever()\n",
    "\n",
    "retriever = get_retriever()  # Create once and reuse\n",
    "\n",
    "llm=ChatOllama(model=\"llama3.2\")\n",
    "class State(TypedDict):\n",
    "    messages: Annotated[list[BaseMessage], add_messages]\n",
    "    context: str  # Or list[str] if multiple docs\n",
    "\n",
    "def retrieve_node(state: State) -> State:\n",
    "    query = state[\"messages\"][-1].content\n",
    "    print(\"Retrieving query\", query)\n",
    "    docs = retriever.invoke(query)\n",
    "    context = \"\\n\\n\".join([doc.page_content for doc in docs])\n",
    "    # print(\"Retrieved Context:\", context)\n",
    "    return {\n",
    "        \"messages\": state[\"messages\"],\n",
    "        \"context\": context\n",
    "    }\n",
    "\n",
    "# For unrelated questions:\n",
    "# \"That question falls outside our accounting scope - please contact client services.\"\n",
    "def chatbot_node(state: State) -> State:\n",
    "    print(\"Chatbot node is calling\")\n",
    "    prompt = f\"\"\"\n",
    "    You are a precise accounting information assistant for GL website. Provide rhe answer form the provided knowledge base. When ypu get the response from tool make it human readable.\n",
    "\n",
    "    Answer requirements:\n",
    "    1. Quote exact figures/dates when available\n",
    "    2. Reference relevant forms/regulations where applicable\n",
    "    3. Keep answers under 3 sentences unless technical details require more\n",
    "\n",
    "Context: {state['context']}\n",
    "Question: {state['messages'][-1].content}\n",
    "Concise accounting answer:\"\"\"\n",
    "\n",
    "\n",
    "    response = llm.invoke([HumanMessage(content=prompt)])\n",
    "    return {\n",
    "        \"messages\": state[\"messages\"] + [response],\n",
    "        \"context\": state[\"context\"]\n",
    "    }\n"
   ]
  },
  {
   "cell_type": "code",
   "execution_count": 1,
   "id": "7fce38b2",
   "metadata": {},
   "outputs": [
    {
     "ename": "NameError",
     "evalue": "name 'llm' is not defined",
     "output_type": "error",
     "traceback": [
      "\u001b[31m---------------------------------------------------------------------------\u001b[39m",
      "\u001b[31mNameError\u001b[39m                                 Traceback (most recent call last)",
      "\u001b[36mCell\u001b[39m\u001b[36m \u001b[39m\u001b[32mIn[1]\u001b[39m\u001b[32m, line 37\u001b[39m\n\u001b[32m     34\u001b[39m         \u001b[38;5;28;01mreturn\u001b[39;00m \u001b[33m\"\u001b[39m\u001b[33mAhmad\u001b[39m\u001b[33m\"\u001b[39m\n\u001b[32m     36\u001b[39m tools=[add,multiply,get_admin_name]\n\u001b[32m---> \u001b[39m\u001b[32m37\u001b[39m llm_with_tool=\u001b[43mllm\u001b[49m.bind_tools(tools)\n\u001b[32m     39\u001b[39m \u001b[38;5;28;01mdef\u001b[39;00m\u001b[38;5;250m \u001b[39m\u001b[34mtool_node\u001b[39m(state:State):\n\u001b[32m     40\u001b[39m     \u001b[38;5;28mprint\u001b[39m(\u001b[33m\"\u001b[39m\u001b[33mTool node is calling\u001b[39m\u001b[33m\"\u001b[39m)\n",
      "\u001b[31mNameError\u001b[39m: name 'llm' is not defined"
     ]
    }
   ],
   "source": [
    "\n",
    "def multiply(a:int,b:int)->int:\n",
    "        \"\"\"Multiply a and b\n",
    "\n",
    "        Args:\n",
    "            a (int): first int\n",
    "            b (int): second int\n",
    "\n",
    "        Returns:\n",
    "            int: output int\n",
    "        \"\"\"\n",
    "        return a+b\n",
    "\n",
    "def add(a:int,b:int)->int:\n",
    "        \"\"\"Add a and b\n",
    "\n",
    "        Args:\n",
    "            a (int): first int\n",
    "            b (int): second int\n",
    "\n",
    "        Returns:\n",
    "            int: output int\n",
    "        \"\"\"\n",
    "        return a-b\n",
    "\n",
    "def get_admin_name(user:str)->str:\n",
    "        \"\"\"Get name of admin user name\n",
    "\n",
    "        Args:\n",
    "            user (str): user name\n",
    "\n",
    "        Returns:\n",
    "            str: output str\n",
    "        \"\"\"\n",
    "        return \"Ahmad\"\n",
    "\n",
    "tools=[add,multiply,get_admin_name]\n",
    "llm_with_tool=llm.bind_tools(tools)\n",
    "\n",
    "def tool_node(state:State):\n",
    "    print(\"Tool node is calling\")\n",
    "    return {\"messages\":[llm_with_tool.invoke(state[\"messages\"])]}\n",
    "    "
   ]
  },
  {
   "cell_type": "code",
   "execution_count": 151,
   "id": "df89051e",
   "metadata": {},
   "outputs": [],
   "source": [
    "# def verifier_node(state: State) -> State:\n",
    "#     last_msg = state[\"messages\"][-1]\n",
    "#     # last_msg is a ToolMessage produced by ToolNode\n",
    "#     return {\"messages\": state[\"messages\"] + [last_msg]} \n",
    "\n",
    "def router_node(state: State) -> State:\n",
    "    \"\"\"Return either normal text *or* a function_call message.\"\"\"\n",
    "    user_msg = state[\"messages\"][-1]\n",
    "    # print(\"user_msg.content\",user_msg.content)\n",
    "    # Very small router prompt: ask the model to decide\n",
    "    router_prompt = ChatPromptTemplate.from_messages([\n",
    "        (\"system\",\n",
    "         \"You are a routing assistant. \"\n",
    "         \"If the user is asking to **calculate** something or to look up the admin name, \"\n",
    "         \n",
    "         \"Otherwise answer normally with plain text.\"),\n",
    "        (\"human\", \"{query}\")\n",
    "    ])\n",
    "    \n",
    "    routed = llm_with_tool.invoke(\n",
    "        router_prompt.format(query=user_msg.content)\n",
    "    )\n",
    "    \n",
    "    # Append router reply to history and return\n",
    "    return {\"messages\": state[\"messages\"] + [routed]}"
   ]
  },
  {
   "cell_type": "code",
   "execution_count": null,
   "id": "f3d39dc8",
   "metadata": {},
   "outputs": [
    {
     "data": {
      "image/png": "[encoded data removed]",
      "text/plain": [
       "<IPython.core.display.Image object>"
      ]
     },
     "metadata": {},
     "output_type": "display_data"
    }
   ],
   "source": [
    "graph_builder = StateGraph(State)\n",
    "# graph_builder.add_conditional_edges(\"retrieve\", tools_condition)\n",
    "graph_builder.add_node(\"retrieve\", retrieve_node)\n",
    "graph_builder.add_node(\"router\", router_node)\n",
    "graph_builder.add_node(\"chatbot\", chatbot_node)\n",
    "graph_builder.add_node(\"tools\", tool_node)\n",
    "graph_builder.add_edge(START, \"router\")\n",
    "graph_builder.add_edge(\"router\", \"retrieve\")\n",
    "# graph_builder.add_edge(\"retrieve\", \"chatbot\")\n",
    "graph_builder.add_edge(\"router\", \"tools\")\n",
    "# graph_builder.add_edge(\"tools\", \"chatbot\")\n",
    "graph_builder.add_edge(\"retrieve\", END)\n",
    "graph_builder.add_edge(\"tools\", END)\n",
    "\n",
    "graph = graph_builder.compile()\n",
    "\n",
    "# graph_builder.add_node(\"router\", router_node)\n",
    "# graph_builder.add_node(\"tools\", tool_node)\n",
    "# # graph_builder.add_node(\"verifier\", verifier_node)\n",
    "# graph_builder.add_node(\"retrieve\", retrieve_node)\n",
    "# graph_builder.add_node(\"chatbot\", chatbot_node)\n",
    "\n",
    "# # --- automatic split based on whether router returned a function_call ---\n",
    "# graph_builder.add_conditional_edges(\"router\", tools_condition)\n",
    "\n",
    "# # Edge if NO tool call (plain text)  router → retrieve\n",
    "# graph_builder.add_edge(\"router\", \"retrieve\")\n",
    "\n",
    "# # Standard edges\n",
    "# graph_builder.add_edge(START, \"router\")\n",
    "# graph_builder.add_edge(\"tools\", \"chatbot\")\n",
    "# # graph_builder.add_edge(\"verifier\", END)\n",
    "# graph_builder.add_edge(\"retrieve\", \"chatbot\")\n",
    "# graph_builder.add_edge(\"chatbot\", END)\n",
    "\n",
    "# Entry point\n",
    "# graph_builder.set_entry_point(\"router\")\n",
    "\n",
    "graph = graph_builder.compile()\n",
    "\n",
    "from IPython.display import Image, display\n",
    "display(Image(graph.get_graph().draw_mermaid_png()))"
   ]
  },
  {
   "cell_type": "code",
   "execution_count": null,
   "id": "c35b0815",
   "metadata": {},
   "outputs": [],
   "source": [
    "\n",
    "output= graph.invoke({\"messages\": [HumanMessage(content=\"How do I login to the system?\")]})\n",
    "print(output[\"messages\"][-1].content)"
   ]
  },
  {
   "cell_type": "code",
   "execution_count": 153,
   "id": "ffa28727",
   "metadata": {},
   "outputs": [
    {
     "name": "stdout",
     "output_type": "stream",
     "text": [
      "Chatbot node is calling\n"
     ]
    },
    {
     "ename": "KeyError",
     "evalue": "'context'",
     "output_type": "error",
     "traceback": [
      "\u001b[31m---------------------------------------------------------------------------\u001b[39m",
      "\u001b[31mKeyError\u001b[39m                                  Traceback (most recent call last)",
      "\u001b[36mCell\u001b[39m\u001b[36m \u001b[39m\u001b[32mIn[153]\u001b[39m\u001b[32m, line 1\u001b[39m\n\u001b[32m----> \u001b[39m\u001b[32m1\u001b[39m output= \u001b[43mgraph\u001b[49m\u001b[43m.\u001b[49m\u001b[43minvoke\u001b[49m\u001b[43m(\u001b[49m\u001b[43m{\u001b[49m\u001b[33;43m\"\u001b[39;49m\u001b[33;43mmessages\u001b[39;49m\u001b[33;43m\"\u001b[39;49m\u001b[43m:\u001b[49m\u001b[43m \u001b[49m\u001b[43m[\u001b[49m\u001b[43mHumanMessage\u001b[49m\u001b[43m(\u001b[49m\u001b[43mcontent\u001b[49m\u001b[43m=\u001b[49m\u001b[33;43m\"\u001b[39;49m\u001b[33;43mMultiply 3 and 2\u001b[39;49m\u001b[33;43m\"\u001b[39;49m\u001b[43m)\u001b[49m\u001b[43m]\u001b[49m\u001b[43m}\u001b[49m\u001b[43m)\u001b[49m\n\u001b[32m      2\u001b[39m \u001b[38;5;28mprint\u001b[39m(output[\u001b[33m\"\u001b[39m\u001b[33mmessages\u001b[39m\u001b[33m\"\u001b[39m][-\u001b[32m1\u001b[39m].content)\n",
      "\u001b[36mFile \u001b[39m\u001b[32m~/Downloads/chatboot/.venv/lib/python3.12/site-packages/langgraph/pregel/__init__.py:2844\u001b[39m, in \u001b[36mPregel.invoke\u001b[39m\u001b[34m(self, input, config, stream_mode, print_mode, output_keys, interrupt_before, interrupt_after, **kwargs)\u001b[39m\n\u001b[32m   2841\u001b[39m chunks: \u001b[38;5;28mlist\u001b[39m[\u001b[38;5;28mdict\u001b[39m[\u001b[38;5;28mstr\u001b[39m, Any] | Any] = []\n\u001b[32m   2842\u001b[39m interrupts: \u001b[38;5;28mlist\u001b[39m[Interrupt] = []\n\u001b[32m-> \u001b[39m\u001b[32m2844\u001b[39m \u001b[43m\u001b[49m\u001b[38;5;28;43;01mfor\u001b[39;49;00m\u001b[43m \u001b[49m\u001b[43mchunk\u001b[49m\u001b[43m \u001b[49m\u001b[38;5;129;43;01min\u001b[39;49;00m\u001b[43m \u001b[49m\u001b[38;5;28;43mself\u001b[39;49m\u001b[43m.\u001b[49m\u001b[43mstream\u001b[49m\u001b[43m(\u001b[49m\n\u001b[32m   2845\u001b[39m \u001b[43m    \u001b[49m\u001b[38;5;28;43minput\u001b[39;49m\u001b[43m,\u001b[49m\n\u001b[32m   2846\u001b[39m \u001b[43m    \u001b[49m\u001b[43mconfig\u001b[49m\u001b[43m,\u001b[49m\n\u001b[32m   2847\u001b[39m \u001b[43m    \u001b[49m\u001b[43mstream_mode\u001b[49m\u001b[43m=\u001b[49m\u001b[43m[\u001b[49m\u001b[33;43m\"\u001b[39;49m\u001b[33;43mupdates\u001b[39;49m\u001b[33;43m\"\u001b[39;49m\u001b[43m,\u001b[49m\u001b[43m \u001b[49m\u001b[33;43m\"\u001b[39;49m\u001b[33;43mvalues\u001b[39;49m\u001b[33;43m\"\u001b[39;49m\u001b[43m]\u001b[49m\n\u001b[32m   2848\u001b[39m \u001b[43m    \u001b[49m\u001b[38;5;28;43;01mif\u001b[39;49;00m\u001b[43m \u001b[49m\u001b[43mstream_mode\u001b[49m\u001b[43m \u001b[49m\u001b[43m==\u001b[49m\u001b[43m \u001b[49m\u001b[33;43m\"\u001b[39;49m\u001b[33;43mvalues\u001b[39;49m\u001b[33;43m\"\u001b[39;49m\n\u001b[32m   2849\u001b[39m \u001b[43m    \u001b[49m\u001b[38;5;28;43;01melse\u001b[39;49;00m\u001b[43m \u001b[49m\u001b[43mstream_mode\u001b[49m\u001b[43m,\u001b[49m\n\u001b[32m   2850\u001b[39m \u001b[43m    \u001b[49m\u001b[43mprint_mode\u001b[49m\u001b[43m=\u001b[49m\u001b[43mprint_mode\u001b[49m\u001b[43m,\u001b[49m\n\u001b[32m   2851\u001b[39m \u001b[43m    \u001b[49m\u001b[43moutput_keys\u001b[49m\u001b[43m=\u001b[49m\u001b[43moutput_keys\u001b[49m\u001b[43m,\u001b[49m\n\u001b[32m   2852\u001b[39m \u001b[43m    \u001b[49m\u001b[43minterrupt_before\u001b[49m\u001b[43m=\u001b[49m\u001b[43minterrupt_before\u001b[49m\u001b[43m,\u001b[49m\n\u001b[32m   2853\u001b[39m \u001b[43m    \u001b[49m\u001b[43minterrupt_after\u001b[49m\u001b[43m=\u001b[49m\u001b[43minterrupt_after\u001b[49m\u001b[43m,\u001b[49m\n\u001b[32m   2854\u001b[39m \u001b[43m    \u001b[49m\u001b[43m*\u001b[49m\u001b[43m*\u001b[49m\u001b[43mkwargs\u001b[49m\u001b[43m,\u001b[49m\n\u001b[32m   2855\u001b[39m \u001b[43m\u001b[49m\u001b[43m)\u001b[49m\u001b[43m:\u001b[49m\n\u001b[32m   2856\u001b[39m \u001b[43m    \u001b[49m\u001b[38;5;28;43;01mif\u001b[39;49;00m\u001b[43m \u001b[49m\u001b[43mstream_mode\u001b[49m\u001b[43m \u001b[49m\u001b[43m==\u001b[49m\u001b[43m \u001b[49m\u001b[33;43m\"\u001b[39;49m\u001b[33;43mvalues\u001b[39;49m\u001b[33;43m\"\u001b[39;49m\u001b[43m:\u001b[49m\n\u001b[32m   2857\u001b[39m \u001b[43m        \u001b[49m\u001b[38;5;28;43;01mif\u001b[39;49;00m\u001b[43m \u001b[49m\u001b[38;5;28;43mlen\u001b[39;49m\u001b[43m(\u001b[49m\u001b[43mchunk\u001b[49m\u001b[43m)\u001b[49m\u001b[43m \u001b[49m\u001b[43m==\u001b[49m\u001b[43m \u001b[49m\u001b[32;43m2\u001b[39;49m\u001b[43m:\u001b[49m\n",
      "\u001b[36mFile \u001b[39m\u001b[32m~/Downloads/chatboot/.venv/lib/python3.12/site-packages/langgraph/pregel/__init__.py:2534\u001b[39m, in \u001b[36mPregel.stream\u001b[39m\u001b[34m(self, input, config, stream_mode, print_mode, output_keys, interrupt_before, interrupt_after, checkpoint_during, debug, subgraphs)\u001b[39m\n\u001b[32m   2532\u001b[39m \u001b[38;5;28;01mfor\u001b[39;00m task \u001b[38;5;129;01min\u001b[39;00m loop.match_cached_writes():\n\u001b[32m   2533\u001b[39m     loop.output_writes(task.id, task.writes, cached=\u001b[38;5;28;01mTrue\u001b[39;00m)\n\u001b[32m-> \u001b[39m\u001b[32m2534\u001b[39m \u001b[43m\u001b[49m\u001b[38;5;28;43;01mfor\u001b[39;49;00m\u001b[43m \u001b[49m\u001b[43m_\u001b[49m\u001b[43m \u001b[49m\u001b[38;5;129;43;01min\u001b[39;49;00m\u001b[43m \u001b[49m\u001b[43mrunner\u001b[49m\u001b[43m.\u001b[49m\u001b[43mtick\u001b[49m\u001b[43m(\u001b[49m\n\u001b[32m   2535\u001b[39m \u001b[43m    \u001b[49m\u001b[43m[\u001b[49m\u001b[43mt\u001b[49m\u001b[43m \u001b[49m\u001b[38;5;28;43;01mfor\u001b[39;49;00m\u001b[43m \u001b[49m\u001b[43mt\u001b[49m\u001b[43m \u001b[49m\u001b[38;5;129;43;01min\u001b[39;49;00m\u001b[43m \u001b[49m\u001b[43mloop\u001b[49m\u001b[43m.\u001b[49m\u001b[43mtasks\u001b[49m\u001b[43m.\u001b[49m\u001b[43mvalues\u001b[49m\u001b[43m(\u001b[49m\u001b[43m)\u001b[49m\u001b[43m \u001b[49m\u001b[38;5;28;43;01mif\u001b[39;49;00m\u001b[43m \u001b[49m\u001b[38;5;129;43;01mnot\u001b[39;49;00m\u001b[43m \u001b[49m\u001b[43mt\u001b[49m\u001b[43m.\u001b[49m\u001b[43mwrites\u001b[49m\u001b[43m]\u001b[49m\u001b[43m,\u001b[49m\n\u001b[32m   2536\u001b[39m \u001b[43m    \u001b[49m\u001b[43mtimeout\u001b[49m\u001b[43m=\u001b[49m\u001b[38;5;28;43mself\u001b[39;49m\u001b[43m.\u001b[49m\u001b[43mstep_timeout\u001b[49m\u001b[43m,\u001b[49m\n\u001b[32m   2537\u001b[39m \u001b[43m    \u001b[49m\u001b[43mget_waiter\u001b[49m\u001b[43m=\u001b[49m\u001b[43mget_waiter\u001b[49m\u001b[43m,\u001b[49m\n\u001b[32m   2538\u001b[39m \u001b[43m    \u001b[49m\u001b[43mschedule_task\u001b[49m\u001b[43m=\u001b[49m\u001b[43mloop\u001b[49m\u001b[43m.\u001b[49m\u001b[43maccept_push\u001b[49m\u001b[43m,\u001b[49m\n\u001b[32m   2539\u001b[39m \u001b[43m\u001b[49m\u001b[43m)\u001b[49m\u001b[43m:\u001b[49m\n\u001b[32m   2540\u001b[39m \u001b[43m    \u001b[49m\u001b[38;5;66;43;03m# emit output\u001b[39;49;00m\n\u001b[32m   2541\u001b[39m \u001b[43m    \u001b[49m\u001b[38;5;28;43;01myield from\u001b[39;49;00m\u001b[43m \u001b[49m\u001b[43m_output\u001b[49m\u001b[43m(\u001b[49m\n\u001b[32m   2542\u001b[39m \u001b[43m        \u001b[49m\u001b[43mstream_mode\u001b[49m\u001b[43m,\u001b[49m\u001b[43m \u001b[49m\u001b[43mprint_mode\u001b[49m\u001b[43m,\u001b[49m\u001b[43m \u001b[49m\u001b[43msubgraphs\u001b[49m\u001b[43m,\u001b[49m\u001b[43m \u001b[49m\u001b[43mstream\u001b[49m\u001b[43m.\u001b[49m\u001b[43mget\u001b[49m\u001b[43m,\u001b[49m\u001b[43m \u001b[49m\u001b[43mqueue\u001b[49m\u001b[43m.\u001b[49m\u001b[43mEmpty\u001b[49m\n\u001b[32m   2543\u001b[39m \u001b[43m    \u001b[49m\u001b[43m)\u001b[49m\n\u001b[32m   2544\u001b[39m loop.after_tick()\n",
      "\u001b[36mCell\u001b[39m\u001b[36m \u001b[39m\u001b[32mIn[149]\u001b[39m\u001b[32m, line 68\u001b[39m, in \u001b[36mchatbot_node\u001b[39m\u001b[34m(state)\u001b[39m\n\u001b[32m     56\u001b[39m \u001b[38;5;28;01mdef\u001b[39;00m\u001b[38;5;250m \u001b[39m\u001b[34mchatbot_node\u001b[39m(state: State) -> State:\n\u001b[32m     57\u001b[39m     \u001b[38;5;28mprint\u001b[39m(\u001b[33m\"\u001b[39m\u001b[33mChatbot node is calling\u001b[39m\u001b[33m\"\u001b[39m)\n\u001b[32m     58\u001b[39m     prompt = \u001b[33mf\u001b[39m\u001b[33m\"\"\"\u001b[39m\n\u001b[32m     59\u001b[39m \u001b[33mYou are a precise accounting information assistant for GL website. Provide rhe answer form the provided knowledge base. When ypu get the response from tool make it human readable.\u001b[39m\n\u001b[32m     60\u001b[39m \n\u001b[32m     61\u001b[39m \u001b[33mAnswer requirements:\u001b[39m\n\u001b[32m     62\u001b[39m \u001b[33m1. Quote exact figures/dates when available\u001b[39m\n\u001b[32m     63\u001b[39m \u001b[33m2. Reference relevant forms/regulations where applicable\u001b[39m\n\u001b[32m     64\u001b[39m \u001b[33m3. Keep answers under 3 sentences unless technical details require more\u001b[39m\n\u001b[32m     65\u001b[39m \n\u001b[32m     66\u001b[39m \n\u001b[32m     67\u001b[39m \n\u001b[32m---> \u001b[39m\u001b[32m68\u001b[39m \u001b[33mContext: \u001b[39m\u001b[38;5;132;01m{\u001b[39;00m\u001b[43mstate\u001b[49m\u001b[43m[\u001b[49m\u001b[33;43m'\u001b[39;49m\u001b[33;43mcontext\u001b[39;49m\u001b[33;43m'\u001b[39;49m\u001b[43m]\u001b[49m\u001b[38;5;132;01m}\u001b[39;00m\n\u001b[32m     69\u001b[39m \u001b[33mQuestion: \u001b[39m\u001b[38;5;132;01m{\u001b[39;00mstate[\u001b[33m'\u001b[39m\u001b[33mmessages\u001b[39m\u001b[33m'\u001b[39m][-\u001b[32m1\u001b[39m].content\u001b[38;5;132;01m}\u001b[39;00m\n\u001b[32m     70\u001b[39m \u001b[33mConcise accounting answer:\u001b[39m\u001b[33m\"\"\"\u001b[39m\n\u001b[32m     73\u001b[39m     response = llm.invoke([HumanMessage(content=prompt)])\n\u001b[32m     74\u001b[39m     \u001b[38;5;28;01mreturn\u001b[39;00m {\n\u001b[32m     75\u001b[39m         \u001b[33m\"\u001b[39m\u001b[33mmessages\u001b[39m\u001b[33m\"\u001b[39m: state[\u001b[33m\"\u001b[39m\u001b[33mmessages\u001b[39m\u001b[33m\"\u001b[39m] + [response],\n\u001b[32m     76\u001b[39m         \u001b[33m\"\u001b[39m\u001b[33mcontext\u001b[39m\u001b[33m\"\u001b[39m: state[\u001b[33m\"\u001b[39m\u001b[33mcontext\u001b[39m\u001b[33m\"\u001b[39m]\n\u001b[32m     77\u001b[39m     }\n",
      "\u001b[31mKeyError\u001b[39m: 'context'",
      "During task with name 'chatbot' and id '9e5aafbd-8816-cf22-b51f-d5223f483229'"
     ]
    }
   ],
   "source": [
    "\n",
    "output= graph.invoke({\"messages\": [HumanMessage(content=\"Multiply 3 and 2\")]})\n",
    "print(output[\"messages\"][-1].content)"
   ]
  }
 ],
 "metadata": {
  "kernelspec": {
   "display_name": ".venv",
   "language": "python",
   "name": "python3"
  },
  "language_info": {
   "codemirror_mode": {
    "name": "ipython",
    "version": 3
   },
   "file_extension": ".py",
   "mimetype": "text/x-python",
   "name": "python",
   "nbconvert_exporter": "python",
   "pygments_lexer": "ipython3",
   "version": "3.12.3"
  }
 },
 "nbformat": 4,
 "nbformat_minor": 5
}
