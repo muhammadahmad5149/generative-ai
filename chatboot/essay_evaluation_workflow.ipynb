{
 "cells": [
  {
   "cell_type": "code",
   "execution_count": 33,
   "id": "b4302f4f",
   "metadata": {},
   "outputs": [],
   "source": [
    "from langgraph.graph import StateGraph, START, END\n",
    "from langchain_ollama import ChatOllama\n",
    "from typing import TypedDict, Annotated\n",
    "from pydantic import BaseModel, Field\n",
    "import operator"
   ]
  },
  {
   "cell_type": "code",
   "execution_count": 27,
   "id": "817815ce",
   "metadata": {},
   "outputs": [],
   "source": [
    "llm = ChatOllama(model=\"llama3.2\")"
   ]
  },
  {
   "cell_type": "code",
   "execution_count": 28,
   "id": "8c15b457",
   "metadata": {},
   "outputs": [],
   "source": [
    "class EvaluationSchema(BaseModel):\n",
    "\n",
    "    feedback: str = Field(description=\"Detailed feedback for the eassy\")\n",
    "    score: int = Field(description=\"Score out of 10\", ge=0, le=10)\n",
    "    "
   ]
  },
  {
   "cell_type": "code",
   "execution_count": 29,
   "id": "6a77364d",
   "metadata": {},
   "outputs": [],
   "source": [
    "structured_llm=llm.with_structured_output(EvaluationSchema)"
   ]
  },
  {
   "cell_type": "code",
   "execution_count": 30,
   "id": "ca42b46d",
   "metadata": {},
   "outputs": [],
   "source": [
    "essay=\"\"\"قائداعظم محمد علی جناحؒ\n",
    "\n",
    "قائداعظم محمد علی جناحؒ برصغیر کے مسلمانوں کے عظیم رہنما اور پاکستان کے بانی تھے۔ آپ نے نہ صرف مسلمانوں کو ایک علیحدہ قوم کی حیثیت دلائی بلکہ ایک آزاد اور خودمختار ریاست پاکستان کے قیام کو ممکن بنایا۔ آپ کی ولادت 25 دسمبر 1876ء کو کراچی میں ہوئی۔ آپ کے والد کا نام پونجا جناح اور والدہ کا نام مٹھی بائی تھا۔ ابتدائی تعلیم کراچی سے حاصل کی اور اعلیٰ تعلیم کے لیے انگلینڈ چلے گئے جہاں سے آپ نے قانون کی ڈگری حاصل کی۔\n",
    "\n",
    "محمد علی جناحؒ نے عملی زندگی کا آغاز وکالت سے کیا اور اپنی محنت، قابلیت اور دیانتداری سے بہت جلد کامیاب وکیل بن گئے۔ سیاست میں آپ نے ابتدا میں کانگریس میں شمولیت اختیار کی، کیونکہ اس وقت مسلمانوں اور ہندوؤں کے درمیان اتحاد کی امید تھی۔ لیکن وقت گزرنے کے ساتھ ساتھ جناحؒ کو اندازہ ہوا کہ ہندو اکثریت مسلمانوں کو دبا رہی ہے اور ان کے حقوق کو نظر انداز کیا جا رہا ہے۔ اس حقیقت کے بعد آپ نے آل انڈیا مسلم لیگ میں شمولیت اختیار کی اور مسلمانوں کے حقوق کے تحفظ کے لیے جدوجہد شروع کی۔\n",
    "\n",
    "قائداعظم نے دو قومی نظریہ کو بنیاد بنا کر مسلمانوں کو ایک علیحدہ قوم قرار دیا اور اس بات پر زور دیا کہ مسلمانوں کا دین، ثقافت، تہذیب، اور طرزِ زندگی ہندوؤں سے مختلف ہے، اس لیے ان کا ایک علیحدہ ملک ہونا چاہیے۔ آپ نے اپنی پرامن، جمہوری اور اصولی سیاست کے ذریعے مسلمانوں کو بیدار کیا اور انہیں ایک پلیٹ فارم پر جمع کیا۔ آپ کی قیادت میں 23 مارچ 1940ء کو قراردادِ پاکستان منظور ہوئی جس نے قیام پاکستان کی راہ ہموار کی۔\n",
    "\n",
    "قائداعظم کا مشہور قول ہے:\n",
    "\"اتحاد، یقین، قربانی\" — یہ ان کی سیاست اور جدوجہد کا نچوڑ تھا۔ آپ نے برصغیر کے مسلمانوں کو ایک منزل دی اور بالآخر 14 اگست 1947ء کو پاکستان دنیا کے نقشے پر ایک آزاد مسلم ریاست کے طور پر ابھرا۔\n",
    "\n",
    "بدقسمتی سے آزادی کے صرف ایک سال بعد، 11 ستمبر 1948ء کو قائداعظم اس دنیا سے رخصت ہو گئے۔ لیکن ان کی جدوجہد، قربانیاں اور اصول آج بھی ہمارے لیے مشعل راہ ہیں۔ اگر ہم ان کے نقشِ قدم پر چلیں تو پاکستان کو ایک مضبوط، ترقی یافتہ اور خوشحال ملک بنا سکتے ہیں۔\n",
    "\n",
    "نتیجہ:\n",
    "قائداعظم محمد علی جناحؒ نہ صرف ایک عظیم رہنما بلکہ ایک مثالی انسان تھے۔ انہوں نے جو خواب دیکھا تھا وہ ہم سب کی ذمہ داری ہے کہ اسے حقیقت کا روپ دیں۔ ہمیں چاہیے کہ ان کے اقوال اور اصولوں پر عمل کرتے ہوئے پاکستان کو ایک فلاحی ریاست بنائیں۔\"\"\""
   ]
  },
  {
   "cell_type": "code",
   "execution_count": 31,
   "id": "403d53c5",
   "metadata": {},
   "outputs": [
    {
     "data": {
      "text/plain": [
       "EvaluationSchema(feedback='Language Quality Score: 8/10', score=8)"
      ]
     },
     "execution_count": 31,
     "metadata": {},
     "output_type": "execute_result"
    }
   ],
   "source": [
    "prompt= f'Evalute the language quality of the following eassy and provide a feedback and assign a score out of 10 \\n {essay}'\n",
    "structured_llm.invoke(prompt)"
   ]
  },
  {
   "cell_type": "code",
   "execution_count": 34,
   "id": "2591088b",
   "metadata": {},
   "outputs": [],
   "source": [
    "class EssayState(TypedDict):\n",
    "\n",
    "    essay: str\n",
    "    language_feedback:str\n",
    "    analytic_feedback: str\n",
    "    clarity_feedback: str\n",
    "    overall_feedback: str\n",
    "    individual_scores: Annotated[list[int], operator.add]\n",
    "    avg_score: float"
   ]
  },
  {
   "cell_type": "code",
   "execution_count": 41,
   "id": "1892f297",
   "metadata": {},
   "outputs": [],
   "source": [
    "def evaluate_lang(state:EssayState)->EssayState:\n",
    "    essay=state['essay']\n",
    "    prompt= f'Evalute the language quality of the following eassy and provide a feedback and assign a score out of 10 \\n {essay}'\n",
    "    output=structured_llm.invoke(prompt)\n",
    "\n",
    "    return {\"language_feedback\":output.feedback,\"individual_scores\":[output.score] }"
   ]
  },
  {
   "cell_type": "code",
   "execution_count": 42,
   "id": "2b553b67",
   "metadata": {},
   "outputs": [],
   "source": [
    "def clarity_of_thoughts(state:EssayState)->EssayState:\n",
    "    essay=state['essay']\n",
    "    prompt= f'Evalute the clearity of thoughts of the following eassy and provide a feedback and assign a score out of 10 \\n {essay}'\n",
    "    output=structured_llm.invoke(prompt)\n",
    "\n",
    "    return {\"clarity_feedback\":output.feedback,\"individual_scores\":[output.score] }"
   ]
  },
  {
   "cell_type": "code",
   "execution_count": 43,
   "id": "f5622f45",
   "metadata": {},
   "outputs": [],
   "source": [
    "def analytic_thoughts(state:EssayState)->EssayState:\n",
    "    essay=state['essay']\n",
    "    prompt= f'Evalute the depth of analysis of the following eassy and provide a feedback and assign a score out of 10 \\n {essay}'\n",
    "    output=structured_llm.invoke(prompt)\n",
    "\n",
    "    return {\"analytic_feedback\":output.feedback,\"individual_scores\":[output.score] }"
   ]
  },
  {
   "cell_type": "code",
   "execution_count": 44,
   "id": "b17dae19",
   "metadata": {},
   "outputs": [],
   "source": [
    "def final_evalution(state:EssayState)->EssayState:\n",
    "    clarity_feedback=state['clarity_feedback']\n",
    "    language_feedback=state['language_feedback']\n",
    "    analytic_feedback=state['analytic_feedback']\n",
    "    all_scores=state['individual_scores']\n",
    "\n",
    "    prompt= f'Based on the following feedbacks create a summarized feedback \\n language feedback - {language_feedback} \\n depth of analysis feedback - {analytic_feedback} \\n clarity of thought feedback - {clarity_feedback}'\n",
    "    final_feedback=llm.invoke(prompt).content\n",
    "    final_score = sum(all_scores)/len(all_scores)\n",
    "    return {\"overall_feedback\":final_feedback,\"avg_score\": final_score}"
   ]
  },
  {
   "cell_type": "code",
   "execution_count": 45,
   "id": "e80df9b8",
   "metadata": {},
   "outputs": [],
   "source": [
    "# Create graph\n",
    "graph= StateGraph(EssayState)\n",
    "\n",
    "# careat nodes\n",
    "\n",
    "graph.add_node(\"evaluate_lang\",evaluate_lang)\n",
    "graph.add_node(\"clarity_of_thoughts\",clarity_of_thoughts)\n",
    "graph.add_node(\"analytic_thoughts\",analytic_thoughts)\n",
    "graph.add_node(\"final_evalution\", final_evalution)\n",
    "\n",
    "# create edges\n",
    "\n",
    "graph.add_edge(START,\"evaluate_lang\")\n",
    "graph.add_edge(START,\"clarity_of_thoughts\")\n",
    "graph.add_edge(START,\"analytic_thoughts\")\n",
    "\n",
    "graph.add_edge(\"evaluate_lang\", \"final_evalution\")\n",
    "graph.add_edge(\"clarity_of_thoughts\", \"final_evalution\")\n",
    "graph.add_edge(\"analytic_thoughts\", \"final_evalution\")\n",
    "\n",
    "graph.add_edge(\"final_evalution\", END)\n",
    "\n",
    "# compile grapg\n",
    "\n",
    "workflow=graph.compile()"
   ]
  },
  {
   "cell_type": "code",
   "execution_count": 46,
   "id": "719172f2",
   "metadata": {},
   "outputs": [
    {
     "data": {
      "text/plain": [
       "{'essay': 'قائداعظم محمد علی جناحؒ\\n\\nقائداعظم محمد علی جناحؒ برصغیر کے مسلمانوں کے عظیم رہنما اور پاکستان کے بانی تھے۔ آپ نے نہ صرف مسلمانوں کو ایک علیحدہ قوم کی حیثیت دلائی بلکہ ایک آزاد اور خودمختار ریاست پاکستان کے قیام کو ممکن بنایا۔ آپ کی ولادت 25 دسمبر 1876ء کو کراچی میں ہوئی۔ آپ کے والد کا نام پونجا جناح اور والدہ کا نام مٹھی بائی تھا۔ ابتدائی تعلیم کراچی سے حاصل کی اور اعلیٰ تعلیم کے لیے انگلینڈ چلے گئے جہاں سے آپ نے قانون کی ڈگری حاصل کی۔\\n\\nمحمد علی جناحؒ نے عملی زندگی کا آغاز وکالت سے کیا اور اپنی محنت، قابلیت اور دیانتداری سے بہت جلد کامیاب وکیل بن گئے۔ سیاست میں آپ نے ابتدا میں کانگریس میں شمولیت اختیار کی، کیونکہ اس وقت مسلمانوں اور ہندوؤں کے درمیان اتحاد کی امید تھی۔ لیکن وقت گزرنے کے ساتھ ساتھ جناحؒ کو اندازہ ہوا کہ ہندو اکثریت مسلمانوں کو دبا رہی ہے اور ان کے حقوق کو نظر انداز کیا جا رہا ہے۔ اس حقیقت کے بعد آپ نے آل انڈیا مسلم لیگ میں شمولیت اختیار کی اور مسلمانوں کے حقوق کے تحفظ کے لیے جدوجہد شروع کی۔\\n\\nقائداعظم نے دو قومی نظریہ کو بنیاد بنا کر مسلمانوں کو ایک علیحدہ قوم قرار دیا اور اس بات پر زور دیا کہ مسلمانوں کا دین، ثقافت، تہذیب، اور طرزِ زندگی ہندوؤں سے مختلف ہے، اس لیے ان کا ایک علیحدہ ملک ہونا چاہیے۔ آپ نے اپنی پرامن، جمہوری اور اصولی سیاست کے ذریعے مسلمانوں کو بیدار کیا اور انہیں ایک پلیٹ فارم پر جمع کیا۔ آپ کی قیادت میں 23 مارچ 1940ء کو قراردادِ پاکستان منظور ہوئی جس نے قیام پاکستان کی راہ ہموار کی۔\\n\\nقائداعظم کا مشہور قول ہے:\\n\"اتحاد، یقین، قربانی\" — یہ ان کی سیاست اور جدوجہد کا نچوڑ تھا۔ آپ نے برصغیر کے مسلمانوں کو ایک منزل دی اور بالآخر 14 اگست 1947ء کو پاکستان دنیا کے نقشے پر ایک آزاد مسلم ریاست کے طور پر ابھرا۔\\n\\nبدقسمتی سے آزادی کے صرف ایک سال بعد، 11 ستمبر 1948ء کو قائداعظم اس دنیا سے رخصت ہو گئے۔ لیکن ان کی جدوجہد، قربانیاں اور اصول آج بھی ہمارے لیے مشعل راہ ہیں۔ اگر ہم ان کے نقشِ قدم پر چلیں تو پاکستان کو ایک مضبوط، ترقی یافتہ اور خوشحال ملک بنا سکتے ہیں۔\\n\\nنتیجہ:\\nقائداعظم محمد علی جناحؒ نہ صرف ایک عظیم رہنما بلکہ ایک مثالی انسان تھے۔ انہوں نے جو خواب دیکھا تھا وہ ہم سب کی ذمہ داری ہے کہ اسے حقیقت کا روپ دیں۔ ہمیں چاہیے کہ ان کے اقوال اور اصولوں پر عمل کرتے ہوئے پاکستان کو ایک فلاحی ریاست بنائیں۔',\n",
       " 'language_feedback': \"The essay provides a comprehensive overview of Muhammad Ali Jinnah's life, his political ideology, and his role in the creation of Pakistan. The writer has successfully woven together historical facts with engaging narrative techniques, making the essay informative and enjoyable to read. However, there are a few areas where the language quality could be improved for better clarity and impact.\",\n",
       " 'analytic_feedback': \"The essay provides a good overview of the life and contributions of Quaid-e-Azam Muhammad Ali Jinnah, but it lacks depth and analysis. The writer relies heavily on general statements and lacks concrete evidence to support their claims. The essay could benefit from more specific examples, statistics, or historical events to make the argument more convincing. Additionally, the writer could have explored the complexities of Jinnah's ideology and its impact on the country's politics in more detail. Overall, the essay is a good start, but it needs more analysis and depth to make it truly effective.\",\n",
       " 'clarity_feedback': \"The essay provides a clear and concise overview of the life and achievements of Muhammad Ali Jinnah, also known as Quaid-e-Azam. The writer has done an excellent job of highlighting Jinnah's key roles in the creation of Pakistan and his vision for a separate homeland for Muslims. However, there are a few areas where the essay could be improved upon to enhance its clarity and effectiveness. Overall, the score is 7 out of 10.\",\n",
       " 'overall_feedback': \"Here is a summarized feedback based on the provided feedback:\\n\\nThe essay provides a good overview of Muhammad Ali Jinnah's life and contributions, but lacks depth and analysis. While it is informative and enjoyable to read, there are areas where language quality could be improved for better clarity and impact. The writer relies heavily on general statements and could benefit from more specific examples, statistics, or historical events to support their claims.\\n\\nStrengths:\\n\\n* Comprehensive overview of Jinnah's life and contributions\\n* Engaging narrative techniques\\n* Clear and concise writing\\n\\nWeaknesses:\\n\\n* Lack of depth and analysis in the essay\\n* Relying on general statements rather than concrete evidence\\n* Opportunities for improvement in language quality for better clarity and impact.\\n\\nOverall, the essay is a good start, but needs more analysis and depth to make it truly effective.\",\n",
       " 'individual_scores': [6, 7, 8],\n",
       " 'avg_score': 7.0}"
      ]
     },
     "execution_count": 46,
     "metadata": {},
     "output_type": "execute_result"
    }
   ],
   "source": [
    "initial_state={\n",
    "\"essay\":essay\n",
    "}\n",
    "workflow.invoke(initial_state)"
   ]
  }
 ],
 "metadata": {
  "kernelspec": {
   "display_name": ".venv",
   "language": "python",
   "name": "python3"
  },
  "language_info": {
   "codemirror_mode": {
    "name": "ipython",
    "version": 3
   },
   "file_extension": ".py",
   "mimetype": "text/x-python",
   "name": "python",
   "nbconvert_exporter": "python",
   "pygments_lexer": "ipython3",
   "version": "3.12.3"
  }
 },
 "nbformat": 4,
 "nbformat_minor": 5
}
