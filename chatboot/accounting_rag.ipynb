{
 "cells": [
  {
   "cell_type": "code",
   "execution_count": 171,
   "id": "aec6c47f",
   "metadata": {},
   "outputs": [],
   "source": [
    "from langgraph.graph import StateGraph, START, END\n",
    "from langchain_ollama import ChatOllama\n",
    "from typing import TypedDict, Annotated, Literal, List\n",
    "from pydantic import BaseModel, Field\n",
    "from langchain_core.documents import Document\n",
    "from langchain_core.prompts import ChatPromptTemplate\n",
    "from langchain_community.document_loaders import UnstructuredURLLoader\n",
    "from langchain.text_splitter import RecursiveCharacterTextSplitter\n",
    "from langgraph.prebuilt import ToolNode\n",
    "from langchain_community.vectorstores import Chroma\n",
    "from langchain_ollama import OllamaEmbeddings\n",
    "from langchain_core.tools import tool\n",
    "from langchain_community.document_loaders import TextLoader\n",
    "from langchain import hub\n",
    "import textwrap\n",
    "import operator\n",
    "import os"
   ]
  },
  {
   "cell_type": "code",
   "execution_count": 172,
   "id": "29cd96bb",
   "metadata": {},
   "outputs": [],
   "source": [
    "llm= ChatOllama(model=\"llama3.2\")"
   ]
  },
  {
   "cell_type": "code",
   "execution_count": null,
   "id": "504b773d",
   "metadata": {},
   "outputs": [],
   "source": []
  },
  {
   "cell_type": "code",
   "execution_count": 173,
   "id": "4569238f",
   "metadata": {},
   "outputs": [
    {
     "name": "stdout",
     "output_type": "stream",
     "text": [
      "datasource='unknown'\n"
     ]
    }
   ],
   "source": [
    "class RouterSchema(BaseModel):\n",
    "    datasource: Literal[\"vectorstore\", \"tools\", \"unknown\"] = Field(\n",
    "        description=\"Given a user question choose to route it to tools search or a vectorstore.\",\n",
    "    )\n",
    "structured_llm_router=llm.with_structured_output(RouterSchema)\n",
    "datasource= structured_llm_router.invoke('how are you')\n",
    "print(datasource)\n",
    "# system = \"\"\"You are an expert at routing a user question to a vectorstore or tool search. You have access to these tools {tools}\n",
    "# The vectorstore contains documents related to agents, prompt engineering, and adversarial attacks.\n",
    "# Use the vectorstore for questions on these topics. Otherwise, use web-search.\"\"\"\n",
    "# route_prompt = ChatPromptTemplate.from_messages(\n",
    "#     [\n",
    "#         (\"system\", system),\n",
    "#         (\"human\", \"{question}\"),\n",
    "#     ]\n",
    "# )\n",
    "\n",
    "# question_router = route_prompt | structured_llm_router\n",
    "# datasource=question_router.invoke(\n",
    "#         {\"question\": \"What is the admin\"}\n",
    "#     ).datasource\n",
    "# print(datasource)\n",
    "\n"
   ]
  },
  {
   "cell_type": "code",
   "execution_count": 174,
   "id": "6c363ccc",
   "metadata": {},
   "outputs": [],
   "source": [
    "class AppState(TypedDict):\n",
    "    datasource: Literal[\"vectorstore\",\"tools\", \"unknown\"]\n",
    "    question: str\n",
    "    answer:str\n",
    "    context:List[Document]\n",
    "   "
   ]
  },
  {
   "cell_type": "code",
   "execution_count": 175,
   "id": "46c649b4",
   "metadata": {},
   "outputs": [],
   "source": [
    "@tool\n",
    "def add(a: int, b: int):\n",
    "    \"\"\"Addition of two numbers\"\"\"\n",
    "    print(\"a\", a, \"b\", b)\n",
    "    return \"Addition is \"+ a * b\n",
    "@tool\n",
    "def retrieve_admin(user: str) -> str:\n",
    "    \"\"\"Returns the fixed admin name 'Ahmad' regardless of the user\"\"\"\n",
    "    return \"Ahmad\"\n",
    "tools = [add, retrieve_admin]\n",
    "tool_node = ToolNode(tools)"
   ]
  },
  {
   "cell_type": "code",
   "execution_count": 176,
   "id": "2c4038b2",
   "metadata": {},
   "outputs": [],
   "source": [
    "def retriever(state:AppState)->AppState:\n",
    "    base_dir = os.getcwd()\n",
    "    product_file_path = os.path.join(base_dir, \"./product_help.txt\")\n",
    "    product_loader = TextLoader(product_file_path)\n",
    "    product_docs = product_loader.load()\n",
    "    text_splitter = RecursiveCharacterTextSplitter(\n",
    "            chunk_size=300,\n",
    "            chunk_overlap=50\n",
    "        )\n",
    "    product_chunks = text_splitter.split_documents(product_docs)\n",
    "    for doc in product_chunks:\n",
    "            doc.metadata[\"type\"] = \"product\"\n",
    "    docs=product_chunks\n",
    "    embeddings = OllamaEmbeddings(\n",
    "            model=\"mxbai-embed-large\",\n",
    "            base_url=\"http://10.28.85.206:11434/\"\n",
    "        )\n",
    "    vectorstore = Chroma.from_documents(\n",
    "            documents=docs,\n",
    "            embedding=embeddings,\n",
    "            persist_directory=\"chroma_db\",\n",
    "        )\n",
    "    vectorstore.persist()\n",
    "    retrieved_docs = vectorstore.similarity_search(state[\"question\"], k=5)\n",
    "    print(\"retrieved_docs\", retrieved_docs)\n",
    "    return {\"context\":retrieved_docs}"
   ]
  },
  {
   "cell_type": "code",
   "execution_count": null,
   "id": "cd893607",
   "metadata": {},
   "outputs": [],
   "source": [
    "def router(state: AppState) -> AppState:\n",
    "    print(\"retrieved data\", state[\"context\"])\n",
    "    system = f\"\"\"You are an expert at routing a user question to a vectorstore or tool calling.\n",
    "    The vectorstore contains documents related to GL website and accounting question.\n",
    "    Use the vectorstore for questions on these topics and if the user question related to the tools then return the tools. \n",
    "    If the user question not related to the both of the document and tools then return the unknown\n",
    "    User Question:\n",
    "    {state['question']}\n",
    "\n",
    "    Retrieved Context:\n",
    "    {state['context']}\n",
    "\n",
    "    Available Tools:\n",
    "    {tools}\n",
    "    \"\"\"\n",
    "    route_prompt = ChatPromptTemplate.from_messages(\n",
    "        [\n",
    "            (\"system\", system),\n",
    "            (\"human\", \"{question}\"),\n",
    "        ]\n",
    "    )\n",
    "    question_router = route_prompt | structured_llm_router\n",
    "    print(\n",
    "    question_router.invoke(\n",
    "        {\"question\": state[\"question\"]}\n",
    "    )\n",
    ")\n",
    "    return {\"datasource\":question_router}\n",
    "#     prompt = f\"\"\"\n",
    "# You are a smart routing agent that decides where a user's question should be routed:\n",
    "\n",
    "# 1. Return \"vectorstore\" if the question is asking for information that could be answered from the documents (related to the GL website or accounting results).\n",
    "# 2. Return \"tools\" if the question is asking to perform an action that matches one of the defined tools.\n",
    "# 3. Return \"unknown\" if the question is off-topic, too vague, personal, or unrelated (e.g., \"How are you?\", \"Tell me a joke\", \"What's your name?\").\n",
    "\n",
    "# Examples:\n",
    "# - \"What is a general ledger?\" → vectorstore\n",
    "# - \"Add 2 and 3\" → tools\n",
    "# - \"Retrieve admin user\" → tools\n",
    "# - \"What are accounting results?\" → vectorstore\n",
    "# - \"How's the weather?\" → unknown\n",
    "# - \"Hello, are you there?\" → unknown\n",
    "\n",
    "# User Question:\n",
    "# {state['question']}\n",
    "\n",
    "# Retrieved Context:\n",
    "# {state['context']}\n",
    "\n",
    "# Available Tools:\n",
    "# {tools}\n",
    "# \"\"\"\n",
    "#     datasource = structured_llm_router.invoke(prompt).datasource\n",
    "#     print(\"datasource12\", datasource)\n",
    "#     return {\"datasource\": datasource}\n"
   ]
  },
  {
   "cell_type": "code",
   "execution_count": 178,
   "id": "e9496301",
   "metadata": {},
   "outputs": [],
   "source": [
    "def generate_via_document(state:AppState):\n",
    "\n",
    "    rag_prompt=f\"\"\"\n",
    "        You are a helpful assistant for GL accounting website. Use only the provided text files knowledge base to answer user questions accurately.\n",
    "\n",
    "        Answer requirements:\n",
    "        1. Quote exact figures/dates when available\n",
    "        2. Reference relevant forms/regulations where applicable\n",
    "        3. Keep answers under 3 sentences unless technical details require more\n",
    "        4. Add the anchor tag with attribute target=\"_blank\" if any link is provided\n",
    "        5. Only use the link which is provided in the knowledge text file not other then else.\n",
    "\n",
    "\n",
    "        If the question is not related to either accounting or GL website, reply:\n",
    "        \"Please ask a question related to accounting or GL website.\"\n",
    "\n",
    "        Context: {state[\"context\"]}\n",
    "        Question: {state[\"question\"]}\n",
    "        Concise accounting answer:\n",
    "        \"\"\"\n",
    "    answer=llm.invoke(rag_prompt)\n",
    "    return {'answer': answer}\n",
    "    "
   ]
  },
  {
   "cell_type": "code",
   "execution_count": 179,
   "id": "f97e949b",
   "metadata": {},
   "outputs": [],
   "source": [
    "def check_condition(state: AppState) -> Literal[\"generate_via_tool\", \"generate_via_document\",\"unknown\"]:\n",
    "    datasource = state[\"datasource\"]\n",
    "    if datasource == \"tools\":\n",
    "        return \"generate_via_tool\"\n",
    "    elif datasource == \"vectorstore\":\n",
    "        return \"generate_via_document\"\n",
    "    else:\n",
    "        return \"unknown\"\n",
    "\n"
   ]
  },
  {
   "cell_type": "code",
   "execution_count": 180,
   "id": "5398771f",
   "metadata": {},
   "outputs": [],
   "source": [
    "def generate_via_tool(state:AppState):\n",
    "    question=state[\"question\"]\n",
    "    tool_calling_model=llm.bind_tools(tool_node)\n",
    "    answer=tool_calling_model.invoke({\"question\":question})\n",
    "    print(\"generate_via_tool_answer\",answer)\n",
    "    return {\"answer\":answer}"
   ]
  },
  {
   "cell_type": "code",
   "execution_count": 181,
   "id": "496d21f0",
   "metadata": {},
   "outputs": [],
   "source": [
    "def unknown_node(state:AppState):\n",
    "    unknown_prompt = f\"\"\"\n",
    "You are a helpful assistant integrated into a system that answers user questions either by:\n",
    "\n",
    "1. Searching through uploaded documents (related to the GL website or accounting results).\n",
    "2. Performing actions using defined {tools} for accounting or business operations.\n",
    "\n",
    "However, the current user question does **not** appear to match either category. It seems unrelated to both the uploaded content and the available tools.\n",
    "\n",
    "---\n",
    "\n",
    "## Instructions:\n",
    "\n",
    "Kindly inform the user that their question cannot be answered because it is outside the scope of this assistant. Use natural, conversational, and polite language. Gently guide the user to ask questions related to the available domains.\n",
    "\n",
    "---\n",
    "\n",
    "## Available Domains:\n",
    "- **GL Website**\n",
    "- **Accounting results**\n",
    "- **Related business operations supported by tools**\n",
    "\n",
    "---\n",
    "\n",
    "## Example Tone:\n",
    "- Friendly and conversational\n",
    "- Encouraging redirection, not rejection\n",
    "- Short, clear, and non-technical\n",
    "\n",
    "---\n",
    "\n",
    "## Response Format:\n",
    "Write a friendly and professional response **as if you were speaking to the user**. Do not mention tools or vector stores or system internals. Just explain clearly that the system only supports questions about the GL website or accounting results.\n",
    "\n",
    "---\n",
    "\n",
    "## Now generate the final message to return to the user based on this context.\n",
    "\"\"\"\n",
    "    answer=llm.invoke(unknown_prompt).content\n",
    "    print(\"unknown_node answer\", answer)\n",
    "    return {\"answer\": answer}\n",
    "    "
   ]
  },
  {
   "cell_type": "code",
   "execution_count": 182,
   "id": "8f7f534e",
   "metadata": {},
   "outputs": [],
   "source": [
    "# create graph\n",
    "graph=StateGraph(AppState)\n",
    "\n",
    "# Define the nodes\n",
    "\n",
    "graph.add_node(\"retrieve\", retriever)\n",
    "graph.add_node(\"router\", router)\n",
    "# graph.add_node(\"llm\",generate)\n",
    "graph.add_node(\"generate_via_tool\",generate_via_tool)\n",
    "graph.add_node(\"generate_via_document\", generate_via_document)\n",
    "graph.add_node(\"unknown\", unknown_node)\n",
    "# Add edges\n",
    "graph.add_edge(START, \"retrieve\")\n",
    "graph.add_edge(\"retrieve\",\"router\")\n",
    "graph.add_conditional_edges(\"router\",check_condition)\n",
    "# graph.add_conditional_edges(\"agent\", check_condition)\n",
    "graph.add_edge(\"generate_via_tool\", END)\n",
    "graph.add_edge(\"generate_via_document\", END)\n",
    "graph.add_edge(\"unknown\", END)\n",
    "\n",
    "# Compile graph\n",
    "\n",
    "workflow=graph.compile()\n"
   ]
  },
  {
   "cell_type": "code",
   "execution_count": 183,
   "id": "72179718",
   "metadata": {},
   "outputs": [
    {
     "data": {
      "image/png": "[encoded data removed]",
      "text/plain": [
       "<langgraph.graph.state.CompiledStateGraph object at 0x71f5d7fe4ec0>"
      ]
     },
     "execution_count": 183,
     "metadata": {},
     "output_type": "execute_result"
    }
   ],
   "source": [
    "workflow\n"
   ]
  },
  {
   "cell_type": "code",
   "execution_count": 185,
   "id": "b4130ae0",
   "metadata": {},
   "outputs": [
    {
     "name": "stdout",
     "output_type": "stream",
     "text": [
      "retrieved_docs [Document(metadata={'type': 'product', 'source': '/home/muhammadahmad/Downloads/chatboot/product_help.txt'}, page_content='5. How do I login to the system?\\nTo login to the system, go to <a href=\"https://gl.vteamslabs.com/login\" target=\"_blank\">https://gl.vteamslabs.com/login</a>, enter your email and password, and click Login.'), Document(metadata={'source': '/home/muhammadahmad/Downloads/chatboot/product_help.txt', 'type': 'product'}, page_content='5. How do I login to the system?\\nTo login to the system, go to <a href=\"https://gl.vteamslabs.com/login\" target=\"_blank\">https://gl.vteamslabs.com/login</a>, enter your email and password, and click Login.'), Document(metadata={'type': 'product', 'source': '/home/muhammadahmad/Downloads/chatboot/product_help.txt'}, page_content='5. How do I login to the system?\\nTo login to the system, go to <a href=\"https://gl.vteamslabs.com/login\" target=\"_blank\">https://gl.vteamslabs.com/login</a>, enter your email and password, and click Login.'), Document(metadata={'type': 'product', 'source': '/media/muhammadahmad/DATA5/data-derive/generative-ai/chatboot/./product_help.txt'}, page_content='5. How do I login to the system?\\nTo login to the system, go to <a href=\"https://gl.vteamslabs.com/login\" target=\"_blank\">https://gl.vteamslabs.com/login</a>, enter your email and password, and click Login.'), Document(metadata={'type': 'product', 'source': '/media/muhammadahmad/DATA5/data-derive/generative-ai/chatboot/./product_help.txt'}, page_content='5. How do I login to the system?\\nTo login to the system, go to <a href=\"https://gl.vteamslabs.com/login\" target=\"_blank\">https://gl.vteamslabs.com/login</a>, enter your email and password, and click Login.')]\n",
      "retrieved data [Document(metadata={'type': 'product', 'source': '/home/muhammadahmad/Downloads/chatboot/product_help.txt'}, page_content='5. How do I login to the system?\\nTo login to the system, go to <a href=\"https://gl.vteamslabs.com/login\" target=\"_blank\">https://gl.vteamslabs.com/login</a>, enter your email and password, and click Login.'), Document(metadata={'source': '/home/muhammadahmad/Downloads/chatboot/product_help.txt', 'type': 'product'}, page_content='5. How do I login to the system?\\nTo login to the system, go to <a href=\"https://gl.vteamslabs.com/login\" target=\"_blank\">https://gl.vteamslabs.com/login</a>, enter your email and password, and click Login.'), Document(metadata={'type': 'product', 'source': '/home/muhammadahmad/Downloads/chatboot/product_help.txt'}, page_content='5. How do I login to the system?\\nTo login to the system, go to <a href=\"https://gl.vteamslabs.com/login\" target=\"_blank\">https://gl.vteamslabs.com/login</a>, enter your email and password, and click Login.'), Document(metadata={'type': 'product', 'source': '/media/muhammadahmad/DATA5/data-derive/generative-ai/chatboot/./product_help.txt'}, page_content='5. How do I login to the system?\\nTo login to the system, go to <a href=\"https://gl.vteamslabs.com/login\" target=\"_blank\">https://gl.vteamslabs.com/login</a>, enter your email and password, and click Login.'), Document(metadata={'type': 'product', 'source': '/media/muhammadahmad/DATA5/data-derive/generative-ai/chatboot/./product_help.txt'}, page_content='5. How do I login to the system?\\nTo login to the system, go to <a href=\"https://gl.vteamslabs.com/login\" target=\"_blank\">https://gl.vteamslabs.com/login</a>, enter your email and password, and click Login.')]\n"
     ]
    },
    {
     "ename": "KeyError",
     "evalue": "'Input to ChatPromptTemplate is missing variables {\"\\'source\\'\", \"\\'type\\'\"}.  Expected: [\"\\'source\\'\", \"\\'type\\'\", \\'question\\'] Received: [\\'question\\']\\nNote: if you intended {\\'source\\'} to be part of the string and not a variable, please escape it with double curly braces like: \\'{{\\'source\\'}}\\'.\\nFor troubleshooting, visit: https://python.langchain.com/docs/troubleshooting/errors/INVALID_PROMPT_INPUT '",
     "output_type": "error",
     "traceback": [
      "\u001b[31m---------------------------------------------------------------------------\u001b[39m",
      "\u001b[31mKeyError\u001b[39m                                  Traceback (most recent call last)",
      "\u001b[36mCell\u001b[39m\u001b[36m \u001b[39m\u001b[32mIn[185]\u001b[39m\u001b[32m, line 1\u001b[39m\n\u001b[32m----> \u001b[39m\u001b[32m1\u001b[39m answer=\u001b[43mworkflow\u001b[49m\u001b[43m.\u001b[49m\u001b[43minvoke\u001b[49m\u001b[43m(\u001b[49m\u001b[43m{\u001b[49m\u001b[33;43m\"\u001b[39;49m\u001b[33;43mquestion\u001b[39;49m\u001b[33;43m\"\u001b[39;49m\u001b[43m:\u001b[49m\u001b[33;43m\"\u001b[39;49m\u001b[33;43mPlese give login URL\u001b[39;49m\u001b[33;43m\"\u001b[39;49m\u001b[43m}\u001b[49m\u001b[43m)\u001b[49m\n",
      "\u001b[36mFile \u001b[39m\u001b[32m/media/muhammadahmad/DATA5/data-derive/generative-ai/chatboot/.venv/lib/python3.12/site-packages/langgraph/pregel/__init__.py:2844\u001b[39m, in \u001b[36mPregel.invoke\u001b[39m\u001b[34m(self, input, config, stream_mode, print_mode, output_keys, interrupt_before, interrupt_after, **kwargs)\u001b[39m\n\u001b[32m   2841\u001b[39m chunks: \u001b[38;5;28mlist\u001b[39m[\u001b[38;5;28mdict\u001b[39m[\u001b[38;5;28mstr\u001b[39m, Any] | Any] = []\n\u001b[32m   2842\u001b[39m interrupts: \u001b[38;5;28mlist\u001b[39m[Interrupt] = []\n\u001b[32m-> \u001b[39m\u001b[32m2844\u001b[39m \u001b[43m\u001b[49m\u001b[38;5;28;43;01mfor\u001b[39;49;00m\u001b[43m \u001b[49m\u001b[43mchunk\u001b[49m\u001b[43m \u001b[49m\u001b[38;5;129;43;01min\u001b[39;49;00m\u001b[43m \u001b[49m\u001b[38;5;28;43mself\u001b[39;49m\u001b[43m.\u001b[49m\u001b[43mstream\u001b[49m\u001b[43m(\u001b[49m\n\u001b[32m   2845\u001b[39m \u001b[43m    \u001b[49m\u001b[38;5;28;43minput\u001b[39;49m\u001b[43m,\u001b[49m\n\u001b[32m   2846\u001b[39m \u001b[43m    \u001b[49m\u001b[43mconfig\u001b[49m\u001b[43m,\u001b[49m\n\u001b[32m   2847\u001b[39m \u001b[43m    \u001b[49m\u001b[43mstream_mode\u001b[49m\u001b[43m=\u001b[49m\u001b[43m[\u001b[49m\u001b[33;43m\"\u001b[39;49m\u001b[33;43mupdates\u001b[39;49m\u001b[33;43m\"\u001b[39;49m\u001b[43m,\u001b[49m\u001b[43m \u001b[49m\u001b[33;43m\"\u001b[39;49m\u001b[33;43mvalues\u001b[39;49m\u001b[33;43m\"\u001b[39;49m\u001b[43m]\u001b[49m\n\u001b[32m   2848\u001b[39m \u001b[43m    \u001b[49m\u001b[38;5;28;43;01mif\u001b[39;49;00m\u001b[43m \u001b[49m\u001b[43mstream_mode\u001b[49m\u001b[43m \u001b[49m\u001b[43m==\u001b[49m\u001b[43m \u001b[49m\u001b[33;43m\"\u001b[39;49m\u001b[33;43mvalues\u001b[39;49m\u001b[33;43m\"\u001b[39;49m\n\u001b[32m   2849\u001b[39m \u001b[43m    \u001b[49m\u001b[38;5;28;43;01melse\u001b[39;49;00m\u001b[43m \u001b[49m\u001b[43mstream_mode\u001b[49m\u001b[43m,\u001b[49m\n\u001b[32m   2850\u001b[39m \u001b[43m    \u001b[49m\u001b[43mprint_mode\u001b[49m\u001b[43m=\u001b[49m\u001b[43mprint_mode\u001b[49m\u001b[43m,\u001b[49m\n\u001b[32m   2851\u001b[39m \u001b[43m    \u001b[49m\u001b[43moutput_keys\u001b[49m\u001b[43m=\u001b[49m\u001b[43moutput_keys\u001b[49m\u001b[43m,\u001b[49m\n\u001b[32m   2852\u001b[39m \u001b[43m    \u001b[49m\u001b[43minterrupt_before\u001b[49m\u001b[43m=\u001b[49m\u001b[43minterrupt_before\u001b[49m\u001b[43m,\u001b[49m\n\u001b[32m   2853\u001b[39m \u001b[43m    \u001b[49m\u001b[43minterrupt_after\u001b[49m\u001b[43m=\u001b[49m\u001b[43minterrupt_after\u001b[49m\u001b[43m,\u001b[49m\n\u001b[32m   2854\u001b[39m \u001b[43m    \u001b[49m\u001b[43m*\u001b[49m\u001b[43m*\u001b[49m\u001b[43mkwargs\u001b[49m\u001b[43m,\u001b[49m\n\u001b[32m   2855\u001b[39m \u001b[43m\u001b[49m\u001b[43m)\u001b[49m\u001b[43m:\u001b[49m\n\u001b[32m   2856\u001b[39m \u001b[43m    \u001b[49m\u001b[38;5;28;43;01mif\u001b[39;49;00m\u001b[43m \u001b[49m\u001b[43mstream_mode\u001b[49m\u001b[43m \u001b[49m\u001b[43m==\u001b[49m\u001b[43m \u001b[49m\u001b[33;43m\"\u001b[39;49m\u001b[33;43mvalues\u001b[39;49m\u001b[33;43m\"\u001b[39;49m\u001b[43m:\u001b[49m\n\u001b[32m   2857\u001b[39m \u001b[43m        \u001b[49m\u001b[38;5;28;43;01mif\u001b[39;49;00m\u001b[43m \u001b[49m\u001b[38;5;28;43mlen\u001b[39;49m\u001b[43m(\u001b[49m\u001b[43mchunk\u001b[49m\u001b[43m)\u001b[49m\u001b[43m \u001b[49m\u001b[43m==\u001b[49m\u001b[43m \u001b[49m\u001b[32;43m2\u001b[39;49m\u001b[43m:\u001b[49m\n",
      "\u001b[36mFile \u001b[39m\u001b[32m/media/muhammadahmad/DATA5/data-derive/generative-ai/chatboot/.venv/lib/python3.12/site-packages/langgraph/pregel/__init__.py:2534\u001b[39m, in \u001b[36mPregel.stream\u001b[39m\u001b[34m(self, input, config, stream_mode, print_mode, output_keys, interrupt_before, interrupt_after, checkpoint_during, debug, subgraphs)\u001b[39m\n\u001b[32m   2532\u001b[39m \u001b[38;5;28;01mfor\u001b[39;00m task \u001b[38;5;129;01min\u001b[39;00m loop.match_cached_writes():\n\u001b[32m   2533\u001b[39m     loop.output_writes(task.id, task.writes, cached=\u001b[38;5;28;01mTrue\u001b[39;00m)\n\u001b[32m-> \u001b[39m\u001b[32m2534\u001b[39m \u001b[43m\u001b[49m\u001b[38;5;28;43;01mfor\u001b[39;49;00m\u001b[43m \u001b[49m\u001b[43m_\u001b[49m\u001b[43m \u001b[49m\u001b[38;5;129;43;01min\u001b[39;49;00m\u001b[43m \u001b[49m\u001b[43mrunner\u001b[49m\u001b[43m.\u001b[49m\u001b[43mtick\u001b[49m\u001b[43m(\u001b[49m\n\u001b[32m   2535\u001b[39m \u001b[43m    \u001b[49m\u001b[43m[\u001b[49m\u001b[43mt\u001b[49m\u001b[43m \u001b[49m\u001b[38;5;28;43;01mfor\u001b[39;49;00m\u001b[43m \u001b[49m\u001b[43mt\u001b[49m\u001b[43m \u001b[49m\u001b[38;5;129;43;01min\u001b[39;49;00m\u001b[43m \u001b[49m\u001b[43mloop\u001b[49m\u001b[43m.\u001b[49m\u001b[43mtasks\u001b[49m\u001b[43m.\u001b[49m\u001b[43mvalues\u001b[49m\u001b[43m(\u001b[49m\u001b[43m)\u001b[49m\u001b[43m \u001b[49m\u001b[38;5;28;43;01mif\u001b[39;49;00m\u001b[43m \u001b[49m\u001b[38;5;129;43;01mnot\u001b[39;49;00m\u001b[43m \u001b[49m\u001b[43mt\u001b[49m\u001b[43m.\u001b[49m\u001b[43mwrites\u001b[49m\u001b[43m]\u001b[49m\u001b[43m,\u001b[49m\n\u001b[32m   2536\u001b[39m \u001b[43m    \u001b[49m\u001b[43mtimeout\u001b[49m\u001b[43m=\u001b[49m\u001b[38;5;28;43mself\u001b[39;49m\u001b[43m.\u001b[49m\u001b[43mstep_timeout\u001b[49m\u001b[43m,\u001b[49m\n\u001b[32m   2537\u001b[39m \u001b[43m    \u001b[49m\u001b[43mget_waiter\u001b[49m\u001b[43m=\u001b[49m\u001b[43mget_waiter\u001b[49m\u001b[43m,\u001b[49m\n\u001b[32m   2538\u001b[39m \u001b[43m    \u001b[49m\u001b[43mschedule_task\u001b[49m\u001b[43m=\u001b[49m\u001b[43mloop\u001b[49m\u001b[43m.\u001b[49m\u001b[43maccept_push\u001b[49m\u001b[43m,\u001b[49m\n\u001b[32m   2539\u001b[39m \u001b[43m\u001b[49m\u001b[43m)\u001b[49m\u001b[43m:\u001b[49m\n\u001b[32m   2540\u001b[39m \u001b[43m    \u001b[49m\u001b[38;5;66;43;03m# emit output\u001b[39;49;00m\n\u001b[32m   2541\u001b[39m \u001b[43m    \u001b[49m\u001b[38;5;28;43;01myield from\u001b[39;49;00m\u001b[43m \u001b[49m\u001b[43m_output\u001b[49m\u001b[43m(\u001b[49m\n\u001b[32m   2542\u001b[39m \u001b[43m        \u001b[49m\u001b[43mstream_mode\u001b[49m\u001b[43m,\u001b[49m\u001b[43m \u001b[49m\u001b[43mprint_mode\u001b[49m\u001b[43m,\u001b[49m\u001b[43m \u001b[49m\u001b[43msubgraphs\u001b[49m\u001b[43m,\u001b[49m\u001b[43m \u001b[49m\u001b[43mstream\u001b[49m\u001b[43m.\u001b[49m\u001b[43mget\u001b[49m\u001b[43m,\u001b[49m\u001b[43m \u001b[49m\u001b[43mqueue\u001b[49m\u001b[43m.\u001b[49m\u001b[43mEmpty\u001b[49m\n\u001b[32m   2543\u001b[39m \u001b[43m    \u001b[49m\u001b[43m)\u001b[49m\n\u001b[32m   2544\u001b[39m loop.after_tick()\n",
      "\u001b[36mCell\u001b[39m\u001b[36m \u001b[39m\u001b[32mIn[177]\u001b[39m\u001b[32m, line 24\u001b[39m, in \u001b[36mrouter\u001b[39m\u001b[34m(state)\u001b[39m\n\u001b[32m     16\u001b[39m     route_prompt = ChatPromptTemplate.from_messages(\n\u001b[32m     17\u001b[39m         [\n\u001b[32m     18\u001b[39m             (\u001b[33m\"\u001b[39m\u001b[33msystem\u001b[39m\u001b[33m\"\u001b[39m, system),\n\u001b[32m     19\u001b[39m             (\u001b[33m\"\u001b[39m\u001b[33mhuman\u001b[39m\u001b[33m\"\u001b[39m, \u001b[33m\"\u001b[39m\u001b[38;5;132;01m{question}\u001b[39;00m\u001b[33m\"\u001b[39m),\n\u001b[32m     20\u001b[39m         ]\n\u001b[32m     21\u001b[39m     )\n\u001b[32m     22\u001b[39m     question_router = route_prompt | structured_llm_router\n\u001b[32m     23\u001b[39m     \u001b[38;5;28mprint\u001b[39m(\n\u001b[32m---> \u001b[39m\u001b[32m24\u001b[39m     \u001b[43mquestion_router\u001b[49m\u001b[43m.\u001b[49m\u001b[43minvoke\u001b[49m\u001b[43m(\u001b[49m\n\u001b[32m     25\u001b[39m \u001b[43m        \u001b[49m\u001b[43m{\u001b[49m\u001b[33;43m\"\u001b[39;49m\u001b[33;43mquestion\u001b[39;49m\u001b[33;43m\"\u001b[39;49m\u001b[43m:\u001b[49m\u001b[43m \u001b[49m\u001b[33;43m\"\u001b[39;49m\u001b[33;43mWho will the Bears draft first in the NFL draft?\u001b[39;49m\u001b[33;43m\"\u001b[39;49m\u001b[43m}\u001b[49m\n\u001b[32m     26\u001b[39m \u001b[43m    \u001b[49m\u001b[43m)\u001b[49m\n\u001b[32m     27\u001b[39m )\n",
      "\u001b[36mFile \u001b[39m\u001b[32m/media/muhammadahmad/DATA5/data-derive/generative-ai/chatboot/.venv/lib/python3.12/site-packages/langchain_core/runnables/base.py:3045\u001b[39m, in \u001b[36mRunnableSequence.invoke\u001b[39m\u001b[34m(self, input, config, **kwargs)\u001b[39m\n\u001b[32m   3043\u001b[39m \u001b[38;5;28;01mwith\u001b[39;00m set_config_context(config) \u001b[38;5;28;01mas\u001b[39;00m context:\n\u001b[32m   3044\u001b[39m     \u001b[38;5;28;01mif\u001b[39;00m i == \u001b[32m0\u001b[39m:\n\u001b[32m-> \u001b[39m\u001b[32m3045\u001b[39m         input_ = \u001b[43mcontext\u001b[49m\u001b[43m.\u001b[49m\u001b[43mrun\u001b[49m\u001b[43m(\u001b[49m\u001b[43mstep\u001b[49m\u001b[43m.\u001b[49m\u001b[43minvoke\u001b[49m\u001b[43m,\u001b[49m\u001b[43m \u001b[49m\u001b[43minput_\u001b[49m\u001b[43m,\u001b[49m\u001b[43m \u001b[49m\u001b[43mconfig\u001b[49m\u001b[43m,\u001b[49m\u001b[43m \u001b[49m\u001b[43m*\u001b[49m\u001b[43m*\u001b[49m\u001b[43mkwargs\u001b[49m\u001b[43m)\u001b[49m\n\u001b[32m   3046\u001b[39m     \u001b[38;5;28;01melse\u001b[39;00m:\n\u001b[32m   3047\u001b[39m         input_ = context.run(step.invoke, input_, config)\n",
      "\u001b[36mFile \u001b[39m\u001b[32m/media/muhammadahmad/DATA5/data-derive/generative-ai/chatboot/.venv/lib/python3.12/site-packages/langchain_core/prompts/base.py:216\u001b[39m, in \u001b[36mBasePromptTemplate.invoke\u001b[39m\u001b[34m(self, input, config, **kwargs)\u001b[39m\n\u001b[32m    214\u001b[39m \u001b[38;5;28;01mif\u001b[39;00m \u001b[38;5;28mself\u001b[39m.tags:\n\u001b[32m    215\u001b[39m     config[\u001b[33m\"\u001b[39m\u001b[33mtags\u001b[39m\u001b[33m\"\u001b[39m] = config[\u001b[33m\"\u001b[39m\u001b[33mtags\u001b[39m\u001b[33m\"\u001b[39m] + \u001b[38;5;28mself\u001b[39m.tags\n\u001b[32m--> \u001b[39m\u001b[32m216\u001b[39m \u001b[38;5;28;01mreturn\u001b[39;00m \u001b[38;5;28;43mself\u001b[39;49m\u001b[43m.\u001b[49m\u001b[43m_call_with_config\u001b[49m\u001b[43m(\u001b[49m\n\u001b[32m    217\u001b[39m \u001b[43m    \u001b[49m\u001b[38;5;28;43mself\u001b[39;49m\u001b[43m.\u001b[49m\u001b[43m_format_prompt_with_error_handling\u001b[49m\u001b[43m,\u001b[49m\n\u001b[32m    218\u001b[39m \u001b[43m    \u001b[49m\u001b[38;5;28;43minput\u001b[39;49m\u001b[43m,\u001b[49m\n\u001b[32m    219\u001b[39m \u001b[43m    \u001b[49m\u001b[43mconfig\u001b[49m\u001b[43m,\u001b[49m\n\u001b[32m    220\u001b[39m \u001b[43m    \u001b[49m\u001b[43mrun_type\u001b[49m\u001b[43m=\u001b[49m\u001b[33;43m\"\u001b[39;49m\u001b[33;43mprompt\u001b[39;49m\u001b[33;43m\"\u001b[39;49m\u001b[43m,\u001b[49m\n\u001b[32m    221\u001b[39m \u001b[43m    \u001b[49m\u001b[43mserialized\u001b[49m\u001b[43m=\u001b[49m\u001b[38;5;28;43mself\u001b[39;49m\u001b[43m.\u001b[49m\u001b[43m_serialized\u001b[49m\u001b[43m,\u001b[49m\n\u001b[32m    222\u001b[39m \u001b[43m\u001b[49m\u001b[43m)\u001b[49m\n",
      "\u001b[36mFile \u001b[39m\u001b[32m/media/muhammadahmad/DATA5/data-derive/generative-ai/chatboot/.venv/lib/python3.12/site-packages/langchain_core/runnables/base.py:1940\u001b[39m, in \u001b[36mRunnable._call_with_config\u001b[39m\u001b[34m(self, func, input_, config, run_type, serialized, **kwargs)\u001b[39m\n\u001b[32m   1936\u001b[39m     child_config = patch_config(config, callbacks=run_manager.get_child())\n\u001b[32m   1937\u001b[39m     \u001b[38;5;28;01mwith\u001b[39;00m set_config_context(child_config) \u001b[38;5;28;01mas\u001b[39;00m context:\n\u001b[32m   1938\u001b[39m         output = cast(\n\u001b[32m   1939\u001b[39m             \u001b[33m\"\u001b[39m\u001b[33mOutput\u001b[39m\u001b[33m\"\u001b[39m,\n\u001b[32m-> \u001b[39m\u001b[32m1940\u001b[39m             \u001b[43mcontext\u001b[49m\u001b[43m.\u001b[49m\u001b[43mrun\u001b[49m\u001b[43m(\u001b[49m\n\u001b[32m   1941\u001b[39m \u001b[43m                \u001b[49m\u001b[43mcall_func_with_variable_args\u001b[49m\u001b[43m,\u001b[49m\u001b[43m  \u001b[49m\u001b[38;5;66;43;03m# type: ignore[arg-type]\u001b[39;49;00m\n\u001b[32m   1942\u001b[39m \u001b[43m                \u001b[49m\u001b[43mfunc\u001b[49m\u001b[43m,\u001b[49m\n\u001b[32m   1943\u001b[39m \u001b[43m                \u001b[49m\u001b[43minput_\u001b[49m\u001b[43m,\u001b[49m\n\u001b[32m   1944\u001b[39m \u001b[43m                \u001b[49m\u001b[43mconfig\u001b[49m\u001b[43m,\u001b[49m\n\u001b[32m   1945\u001b[39m \u001b[43m                \u001b[49m\u001b[43mrun_manager\u001b[49m\u001b[43m,\u001b[49m\n\u001b[32m   1946\u001b[39m \u001b[43m                \u001b[49m\u001b[43m*\u001b[49m\u001b[43m*\u001b[49m\u001b[43mkwargs\u001b[49m\u001b[43m,\u001b[49m\n\u001b[32m   1947\u001b[39m \u001b[43m            \u001b[49m\u001b[43m)\u001b[49m,\n\u001b[32m   1948\u001b[39m         )\n\u001b[32m   1949\u001b[39m \u001b[38;5;28;01mexcept\u001b[39;00m \u001b[38;5;167;01mBaseException\u001b[39;00m \u001b[38;5;28;01mas\u001b[39;00m e:\n\u001b[32m   1950\u001b[39m     run_manager.on_chain_error(e)\n",
      "\u001b[36mFile \u001b[39m\u001b[32m/media/muhammadahmad/DATA5/data-derive/generative-ai/chatboot/.venv/lib/python3.12/site-packages/langchain_core/runnables/config.py:428\u001b[39m, in \u001b[36mcall_func_with_variable_args\u001b[39m\u001b[34m(func, input, config, run_manager, **kwargs)\u001b[39m\n\u001b[32m    426\u001b[39m \u001b[38;5;28;01mif\u001b[39;00m run_manager \u001b[38;5;129;01mis\u001b[39;00m \u001b[38;5;129;01mnot\u001b[39;00m \u001b[38;5;28;01mNone\u001b[39;00m \u001b[38;5;129;01mand\u001b[39;00m accepts_run_manager(func):\n\u001b[32m    427\u001b[39m     kwargs[\u001b[33m\"\u001b[39m\u001b[33mrun_manager\u001b[39m\u001b[33m\"\u001b[39m] = run_manager\n\u001b[32m--> \u001b[39m\u001b[32m428\u001b[39m \u001b[38;5;28;01mreturn\u001b[39;00m \u001b[43mfunc\u001b[49m\u001b[43m(\u001b[49m\u001b[38;5;28;43minput\u001b[39;49m\u001b[43m,\u001b[49m\u001b[43m \u001b[49m\u001b[43m*\u001b[49m\u001b[43m*\u001b[49m\u001b[43mkwargs\u001b[49m\u001b[43m)\u001b[49m\n",
      "\u001b[36mFile \u001b[39m\u001b[32m/media/muhammadahmad/DATA5/data-derive/generative-ai/chatboot/.venv/lib/python3.12/site-packages/langchain_core/prompts/base.py:189\u001b[39m, in \u001b[36mBasePromptTemplate._format_prompt_with_error_handling\u001b[39m\u001b[34m(self, inner_input)\u001b[39m\n\u001b[32m    188\u001b[39m \u001b[38;5;28;01mdef\u001b[39;00m\u001b[38;5;250m \u001b[39m\u001b[34m_format_prompt_with_error_handling\u001b[39m(\u001b[38;5;28mself\u001b[39m, inner_input: \u001b[38;5;28mdict\u001b[39m) -> PromptValue:\n\u001b[32m--> \u001b[39m\u001b[32m189\u001b[39m     _inner_input = \u001b[38;5;28;43mself\u001b[39;49m\u001b[43m.\u001b[49m\u001b[43m_validate_input\u001b[49m\u001b[43m(\u001b[49m\u001b[43minner_input\u001b[49m\u001b[43m)\u001b[49m\n\u001b[32m    190\u001b[39m     \u001b[38;5;28;01mreturn\u001b[39;00m \u001b[38;5;28mself\u001b[39m.format_prompt(**_inner_input)\n",
      "\u001b[36mFile \u001b[39m\u001b[32m/media/muhammadahmad/DATA5/data-derive/generative-ai/chatboot/.venv/lib/python3.12/site-packages/langchain_core/prompts/base.py:183\u001b[39m, in \u001b[36mBasePromptTemplate._validate_input\u001b[39m\u001b[34m(self, inner_input)\u001b[39m\n\u001b[32m    177\u001b[39m     example_key = missing.pop()\n\u001b[32m    178\u001b[39m     msg += (\n\u001b[32m    179\u001b[39m         \u001b[33mf\u001b[39m\u001b[33m\"\u001b[39m\u001b[38;5;130;01m\\n\u001b[39;00m\u001b[33mNote: if you intended \u001b[39m\u001b[38;5;130;01m{{\u001b[39;00m\u001b[38;5;132;01m{\u001b[39;00mexample_key\u001b[38;5;132;01m}\u001b[39;00m\u001b[38;5;130;01m}}\u001b[39;00m\u001b[33m to be part of the string\u001b[39m\u001b[33m\"\u001b[39m\n\u001b[32m    180\u001b[39m         \u001b[33m\"\u001b[39m\u001b[33m and not a variable, please escape it with double curly braces like: \u001b[39m\u001b[33m\"\u001b[39m\n\u001b[32m    181\u001b[39m         \u001b[33mf\u001b[39m\u001b[33m\"\u001b[39m\u001b[33m'\u001b[39m\u001b[38;5;130;01m{{\u001b[39;00m\u001b[38;5;130;01m{{\u001b[39;00m\u001b[38;5;132;01m{\u001b[39;00mexample_key\u001b[38;5;132;01m}\u001b[39;00m\u001b[38;5;130;01m}}\u001b[39;00m\u001b[38;5;130;01m}}\u001b[39;00m\u001b[33m'\u001b[39m\u001b[33m.\u001b[39m\u001b[33m\"\u001b[39m\n\u001b[32m    182\u001b[39m     )\n\u001b[32m--> \u001b[39m\u001b[32m183\u001b[39m     \u001b[38;5;28;01mraise\u001b[39;00m \u001b[38;5;167;01mKeyError\u001b[39;00m(\n\u001b[32m    184\u001b[39m         create_message(message=msg, error_code=ErrorCode.INVALID_PROMPT_INPUT)\n\u001b[32m    185\u001b[39m     )\n\u001b[32m    186\u001b[39m \u001b[38;5;28;01mreturn\u001b[39;00m inner_input\n",
      "\u001b[31mKeyError\u001b[39m: 'Input to ChatPromptTemplate is missing variables {\"\\'source\\'\", \"\\'type\\'\"}.  Expected: [\"\\'source\\'\", \"\\'type\\'\", \\'question\\'] Received: [\\'question\\']\\nNote: if you intended {\\'source\\'} to be part of the string and not a variable, please escape it with double curly braces like: \\'{{\\'source\\'}}\\'.\\nFor troubleshooting, visit: https://python.langchain.com/docs/troubleshooting/errors/INVALID_PROMPT_INPUT '",
      "During task with name 'router' and id '6eb7b630-4bb3-779b-d3b4-9238f010d8f1'"
     ]
    }
   ],
   "source": [
    "answer=workflow.invoke({\"question\":\"Plese give login URL\"})"
   ]
  },
  {
   "cell_type": "code",
   "execution_count": 170,
   "id": "c903c6ee",
   "metadata": {},
   "outputs": [
    {
     "data": {
      "text/plain": [
       "\"Hi there, I'm happy to help you with your question! Unfortunately, it seems like your question might not be something I can assist with directly. The system I'm a part of is focused on helping with information about the GL website and accounting results.\\n\\nIf you have questions about what's available on the GL website or how to interpret accounting results, I'd be happy to try and help. However, if you're looking for something outside of those topics, it might not be possible for me to provide a helpful answer.\\n\\nWould you mind asking another question that falls under one of our main areas of focus?\""
      ]
     },
     "execution_count": 170,
     "metadata": {},
     "output_type": "execute_result"
    }
   ],
   "source": [
    "answer[\"answer\"]"
   ]
  }
 ],
 "metadata": {
  "kernelspec": {
   "display_name": ".venv",
   "language": "python",
   "name": "python3"
  },
  "language_info": {
   "codemirror_mode": {
    "name": "ipython",
    "version": 3
   },
   "file_extension": ".py",
   "mimetype": "text/x-python",
   "name": "python",
   "nbconvert_exporter": "python",
   "pygments_lexer": "ipython3",
   "version": "3.12.3"
  }
 },
 "nbformat": 4,
 "nbformat_minor": 5
}
