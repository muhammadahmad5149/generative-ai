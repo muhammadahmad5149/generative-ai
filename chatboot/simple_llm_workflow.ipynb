{
 "cells": [
  {
   "cell_type": "code",
   "execution_count": 17,
   "id": "476d4513",
   "metadata": {},
   "outputs": [],
   "source": [
    "from langgraph.graph import StateGraph, START, END\n",
    "from langchain_ollama import ChatOllama\n",
    "from typing import TypedDict"
   ]
  },
  {
   "cell_type": "code",
   "execution_count": 13,
   "id": "f49e39bc",
   "metadata": {},
   "outputs": [],
   "source": [
    "llm = ChatOllama(model=\"llama3.2\")"
   ]
  },
  {
   "cell_type": "code",
   "execution_count": 14,
   "id": "6c88d098",
   "metadata": {},
   "outputs": [],
   "source": [
    "class LLMState(TypedDict):\n",
    "    question: str\n",
    "    answer: str\n",
    "    "
   ]
  },
  {
   "cell_type": "code",
   "execution_count": 15,
   "id": "d3c7d08e",
   "metadata": {},
   "outputs": [],
   "source": [
    "def llm_qa(state: LLMState)->LLMState:\n",
    "    \n",
    "    # extract the state from the LLMState object\n",
    "    question = state[\"question\"]\n",
    "\n",
    "    # create the prompt\n",
    "\n",
    "    prompt = f'Answer the following question: {question}'\n",
    "\n",
    "    # ask the question to the LLM\n",
    "    answer = llm.invoke(prompt).content\n",
    "\n",
    "    # update the state\n",
    "    state[\"answer\"] = answer\n",
    "\n",
    "    return state\n",
    "    \n",
    "    \n",
    "    "
   ]
  },
  {
   "cell_type": "code",
   "execution_count": null,
   "id": "ce46d3eb",
   "metadata": {},
   "outputs": [],
   "source": [
    "# Create a state graph\n",
    "graph = StateGraph(LLMState)\n",
    "\n",
    "# create a node\n",
    "\n",
    "graph.add_node(\"llm_qa\", llm_qa)\n",
    "\n",
    "# add edges\n",
    "\n",
    "graph.add_edge(START, \"llm_qa\")\n",
    "graph.add_edge(\"llm_qa\", END)\n",
    "\n",
    "# run the graph\n",
    "workflow = graph.compile()\n"
   ]
  },
  {
   "cell_type": "code",
   "execution_count": null,
   "id": "bb66a2be",
   "metadata": {},
   "outputs": [
    {
     "name": "stdout",
     "output_type": "stream",
     "text": [
      "The average distance from the Earth to the Moon is about 384,400 kilometers (238,900 miles). However, this distance can vary slightly due to the elliptical shape of the Moon's orbit around the Earth.\n",
      "\n",
      "At its closest point (called perigee), the Moon is approximately 356,400 kilometers (221,500 miles) away from the Earth. At its farthest point (apogee), it is about 405,500 kilometers (252,000 miles) away from the Earth.\n",
      "\n",
      "So, while the distance between the two bodies can vary slightly, the average distance remains around 384,400 kilometers (238,900 miles).\n"
     ]
    }
   ],
   "source": [
    "initial_state = {\"question\": \"How far is moon from the earth?\"}\n",
    "\n",
    "final_state=workflow.invoke(initial_state)\n",
    "print(final_state['answer'])\n"
   ]
  }
 ],
 "metadata": {
  "kernelspec": {
   "display_name": ".venv",
   "language": "python",
   "name": "python3"
  },
  "language_info": {
   "codemirror_mode": {
    "name": "ipython",
    "version": 3
   },
   "file_extension": ".py",
   "mimetype": "text/x-python",
   "name": "python",
   "nbconvert_exporter": "python",
   "pygments_lexer": "ipython3",
   "version": "3.12.3"
  }
 },
 "nbformat": 4,
 "nbformat_minor": 5
}
