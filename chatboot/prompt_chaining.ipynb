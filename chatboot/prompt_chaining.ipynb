{
 "cells": [
  {
   "cell_type": "code",
   "execution_count": 1,
   "id": "db06cc29",
   "metadata": {},
   "outputs": [],
   "source": [
    "from langgraph.graph import StateGraph, START, END\n",
    "from langchain_ollama import ChatOllama\n",
    "from typing import TypedDict"
   ]
  },
  {
   "cell_type": "code",
   "execution_count": 2,
   "id": "44dcbdc4",
   "metadata": {},
   "outputs": [],
   "source": [
    "llm = ChatOllama(model=\"llama3.2\")"
   ]
  },
  {
   "cell_type": "code",
   "execution_count": 17,
   "id": "fc064df9",
   "metadata": {},
   "outputs": [],
   "source": [
    "class BlogState(TypedDict):\n",
    "    outline: str\n",
    "    blog: str\n",
    "    topic: str\n",
    "    rating: float"
   ]
  },
  {
   "cell_type": "code",
   "execution_count": 4,
   "id": "6e93bb9d",
   "metadata": {},
   "outputs": [],
   "source": [
    "def create_outline(state: BlogState)-> BlogState:\n",
    "    topic= state[\"topic\"]\n",
    "    outline = llm.invoke(f\"Create an outline for a blog post on {topic}\").content\n",
    "    state[\"outline\"] = outline\n",
    "    return state\n",
    "    "
   ]
  },
  {
   "cell_type": "code",
   "execution_count": 7,
   "id": "584f8f25",
   "metadata": {},
   "outputs": [],
   "source": [
    "def write_blog(state: BlogState)->BlogState:\n",
    "    outline = state[\"outline\"]\n",
    "    topic = state[\"topic\"]\n",
    "    prompt=f\"Write a blog post on the title - {topic} using the following outline {outline}\"\n",
    "    blog=llm.invoke(prompt).content\n",
    "    state[\"blog\"] = blog\n",
    "    return state\n"
   ]
  },
  {
   "cell_type": "code",
   "execution_count": null,
   "id": "573eae17",
   "metadata": {},
   "outputs": [],
   "source": [
    "def blog_rating(state:BlogState)->BlogState:\n",
    "    outline=state[\"outline\"]\n",
    "    blog= state[\"blog\"]\n",
    "    prompt=f\"Base of this {outline} rate my blog {blog} and generate a integer score from 10. Only provide an integer number\"\n",
    "\n",
    "    rating= llm.invoke(prompt).content\n",
    "\n",
    "    state[\"rating\"]=rating\n",
    "    return state"
   ]
  },
  {
   "cell_type": "code",
   "execution_count": 31,
   "id": "361f9749",
   "metadata": {},
   "outputs": [],
   "source": [
    "# create graph\n",
    "graph = StateGraph(BlogState)\n",
    "# create the nodes\n",
    "graph.add_node(\"create_outline\", create_outline)\n",
    "graph.add_node(\"write_blog\", write_blog)\n",
    "graph.add_node(\"rate_blog\", blog_rating)\n",
    "\n",
    "# create edges\n",
    "graph.add_edge(START, \"create_outline\")\n",
    "graph.add_edge(\"create_outline\", \"write_blog\")\n",
    "graph.add_edge(\"write_blog\", \"rate_blog\")\n",
    "graph.add_edge(\"rate_blog\", END)\n",
    "\n",
    "# compile the graph\n",
    "workflow=graph.compile()\n"
   ]
  },
  {
   "cell_type": "code",
   "execution_count": 32,
   "id": "fe5de9e2",
   "metadata": {},
   "outputs": [],
   "source": [
    "initial_state={\"topic\": \"Rise of AI in pakistan\"}\n",
    "final_state=workflow.invoke(initial_state)\n",
    "# print(final_state)"
   ]
  },
  {
   "cell_type": "code",
   "execution_count": 33,
   "id": "ea089344",
   "metadata": {},
   "outputs": [
    {
     "name": "stdout",
     "output_type": "stream",
     "text": [
      "8\n"
     ]
    }
   ],
   "source": [
    "print(final_state[\"rating\"])"
   ]
  }
 ],
 "metadata": {
  "kernelspec": {
   "display_name": ".venv",
   "language": "python",
   "name": "python3"
  },
  "language_info": {
   "codemirror_mode": {
    "name": "ipython",
    "version": 3
   },
   "file_extension": ".py",
   "mimetype": "text/x-python",
   "name": "python",
   "nbconvert_exporter": "python",
   "pygments_lexer": "ipython3",
   "version": "3.12.3"
  }
 },
 "nbformat": 4,
 "nbformat_minor": 5
}
