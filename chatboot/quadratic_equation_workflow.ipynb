{
 "cells": [
  {
   "cell_type": "code",
   "execution_count": 1,
   "id": "bc20b5d9",
   "metadata": {},
   "outputs": [],
   "source": [
    "from langgraph.graph import StateGraph, END, START\n",
    "from typing import TypedDict, Literal"
   ]
  },
  {
   "cell_type": "code",
   "execution_count": 85,
   "id": "558eec9d",
   "metadata": {},
   "outputs": [],
   "source": [
    "class QuadState(TypedDict):\n",
    "    a:int\n",
    "    b:int\n",
    "    c:int\n",
    "    equation:str\n",
    "    discriminant:float\n",
    "    result:str"
   ]
  },
  {
   "cell_type": "code",
   "execution_count": 86,
   "id": "3fd58412",
   "metadata": {},
   "outputs": [],
   "source": [
    "def show_equation(state:QuadState)->QuadState:\n",
    "    a=state['a']\n",
    "    b=state['b']\n",
    "    c=state['c']\n",
    "\n",
    "    eq=f'{a}x2{b}x+{c}'\n",
    "\n",
    "    return{\"equation\":eq}"
   ]
  },
  {
   "cell_type": "code",
   "execution_count": 93,
   "id": "530bbae2",
   "metadata": {},
   "outputs": [],
   "source": [
    "def cal_disctiminant(state:QuadState)->QuadState:\n",
    "    a=state['a']\n",
    "    b=state['b']\n",
    "    c=state['c']\n",
    "    disc=(b**2)-(4*a*c)\n",
    "    print(type(disc))\n",
    "    print(\"a\",a, \"b\",b, \"c\",c)\n",
    "    return {'discriminant':disc}\n"
   ]
  },
  {
   "cell_type": "code",
   "execution_count": 53,
   "id": "ba7365c2",
   "metadata": {},
   "outputs": [],
   "source": [
    "def no_real_roots(state:QuadState)->QuadState:\n",
    "    \n",
    "    \n",
    "    return {\"result\":\"No real roots\"}"
   ]
  },
  {
   "cell_type": "code",
   "execution_count": 55,
   "id": "4de40ba4",
   "metadata": {},
   "outputs": [],
   "source": [
    "def real_roots(state:QuadState)->QuadState:\n",
    "    d=state['discriminant']\n",
    "    a=state['a']\n",
    "    b=state['b']\n",
    "    c=state['c']\n",
    "    \n",
    "    r1=(-b+d**0.5)/(2*a)\n",
    "    r2=(-b-d**0.5)/(2*a)\n",
    "    result=f'The roots are {r1} and {r2}'\n",
    "    return {\"result\":result}\n"
   ]
  },
  {
   "cell_type": "code",
   "execution_count": 56,
   "id": "877acc21",
   "metadata": {},
   "outputs": [],
   "source": [
    "def repeated_roots(state:QuadState)->QuadState:\n",
    "    \n",
    "    a=state['a']\n",
    "    b=state['b']\n",
    "    \n",
    "    result=f'The repeated roots is {(-b)/(2*a)}'\n",
    "    return {\"result\": result}\n"
   ]
  },
  {
   "cell_type": "code",
   "execution_count": 76,
   "id": "c144e8b2",
   "metadata": {},
   "outputs": [],
   "source": [
    "def check_condition(state:QuadState)->Literal[\"no_real_roots\", \"real_roots\",\"repeated_roots\"]:\n",
    "    d=state[\"discriminant\"]\n",
    "    if d>0:\n",
    "        return \"real_roots\"\n",
    "    elif d<0:\n",
    "        \"no_real_roots\"\n",
    "    else: \"repeated_roots\""
   ]
  },
  {
   "cell_type": "code",
   "execution_count": 90,
   "id": "b25054cb",
   "metadata": {},
   "outputs": [],
   "source": [
    "# Create graph\n",
    "graph= StateGraph(QuadState)\n",
    "\n",
    "# Add noods\n",
    "graph.add_node(\"show_equation\",show_equation)\n",
    "graph.add_node(\"cal_disctiminant\",cal_disctiminant)\n",
    "graph.add_node(\"no_real_roots\",no_real_roots)\n",
    "graph.add_node(\"real_roots\",real_roots)\n",
    "graph.add_node(\"repeated_roots\",repeated_roots )\n",
    "\n",
    "# Add edges\n",
    "graph.add_edge(START, \"show_equation\")\n",
    "graph.add_edge(\"show_equation\",\"cal_disctiminant\")\n",
    "graph.add_conditional_edges(\"cal_disctiminant\",check_condition)\n",
    "\n",
    "graph.add_edge(\"no_real_roots\", END)\n",
    "graph.add_edge(\"real_roots\", END)\n",
    "graph.add_edge(\"repeated_roots\", END)\n",
    "\n",
    "# Compile the graph\n",
    "\n",
    "workflow=graph.compile()"
   ]
  },
  {
   "cell_type": "code",
   "execution_count": 96,
   "id": "eda39b7c",
   "metadata": {},
   "outputs": [
    {
     "data": {
      "image/png": "[encoded data removed]",
      "text/plain": [
       "<langgraph.graph.state.CompiledStateGraph object at 0x73c9a3e845c0>"
      ]
     },
     "execution_count": 96,
     "metadata": {},
     "output_type": "execute_result"
    }
   ],
   "source": [
    "workflow"
   ]
  },
  {
   "cell_type": "code",
   "execution_count": 95,
   "id": "9d1932d7",
   "metadata": {},
   "outputs": [
    {
     "name": "stdout",
     "output_type": "stream",
     "text": [
      "<class 'int'>\n",
      "a 4 b 2 c -4\n"
     ]
    },
    {
     "data": {
      "text/plain": [
       "{'a': 4,\n",
       " 'b': 2,\n",
       " 'c': -4,\n",
       " 'equation': '4x22x+-4',\n",
       " 'discriminant': 68,\n",
       " 'result': 'The roots are 0.7807764064044151 and -1.2807764064044151'}"
      ]
     },
     "execution_count": 95,
     "metadata": {},
     "output_type": "execute_result"
    }
   ],
   "source": [
    "initial_state={\n",
    "    \"a\":4,\n",
    "    \"b\":2,\n",
    "    \"c\":-4\n",
    "}\n",
    "workflow.invoke(initial_state)"
   ]
  }
 ],
 "metadata": {
  "kernelspec": {
   "display_name": ".venv",
   "language": "python",
   "name": "python3"
  },
  "language_info": {
   "codemirror_mode": {
    "name": "ipython",
    "version": 3
   },
   "file_extension": ".py",
   "mimetype": "text/x-python",
   "name": "python",
   "nbconvert_exporter": "python",
   "pygments_lexer": "ipython3",
   "version": "3.12.3"
  }
 },
 "nbformat": 4,
 "nbformat_minor": 5
}
