{
 "cells": [
  {
   "cell_type": "code",
   "execution_count": 1,
   "id": "a4c85eee",
   "metadata": {},
   "outputs": [],
   "source": [
    "from langgraph.graph import StateGraph, START, END\n",
    "from typing import TypedDict"
   ]
  },
  {
   "cell_type": "code",
   "execution_count": 8,
   "id": "a388c004",
   "metadata": {},
   "outputs": [],
   "source": [
    "class BetsmanState(TypedDict):\n",
    "    runs: int\n",
    "    balls: int\n",
    "    fours: int\n",
    "    sixes: int\n",
    "\n",
    "    sr: float\n",
    "    bpb: float\n",
    "    boundary_percentage: float\n",
    "    summary: str"
   ]
  },
  {
   "cell_type": "code",
   "execution_count": 58,
   "id": "2e864195",
   "metadata": {},
   "outputs": [],
   "source": [
    "def calculate_sr(state: BetsmanState)->BetsmanState:\n",
    "    sr=(state[\"runs\"]/state[\"balls\"])*100\n",
    "    \n",
    "    return {\"sr\":sr}"
   ]
  },
  {
   "cell_type": "code",
   "execution_count": 59,
   "id": "61fc2e0d",
   "metadata": {},
   "outputs": [],
   "source": [
    "def calculate_bpb(state: BetsmanState)-> BetsmanState:\n",
    "    bpb=state[\"balls\"]/(state[\"fours\"]+state[\"sixes\"])\n",
    "    \n",
    "    return {\"bpb\": bpb}"
   ]
  },
  {
   "cell_type": "code",
   "execution_count": 60,
   "id": "d6268124",
   "metadata": {},
   "outputs": [],
   "source": [
    "def calculate_boundary_percentage(state: BetsmanState)-> BetsmanState:\n",
    "    boundary_percentage=(((state['fours']* 4) + (state['sixes']*6))/state['runs'])*100\n",
    "    \n",
    "    return {\"boundary_percentage\": boundary_percentage}"
   ]
  },
  {
   "cell_type": "code",
   "execution_count": 61,
   "id": "ac0476f7",
   "metadata": {},
   "outputs": [],
   "source": [
    "def summary(state: BetsmanState)->BetsmanState:\n",
    "    summary=f\"\"\"\n",
    "    Strike Rate : {state['sr']}\\n\n",
    "    Balls per boundary : {state['bpb']}\\n\n",
    "    Boundary Percentage : {state['boundary_percentage']}\\n\n",
    "    \"\"\"\n",
    "    \n",
    "    return {\"summary\": summary}"
   ]
  },
  {
   "cell_type": "code",
   "execution_count": 62,
   "id": "5b2d83b0",
   "metadata": {},
   "outputs": [],
   "source": [
    "# crate graph\n",
    "graph= StateGraph(BetsmanState)\n",
    "\n",
    "graph.add_node(\"calculate_sr\",calculate_sr)\n",
    "graph.add_node(\"calculate_bpb\",calculate_bpb)\n",
    "graph.add_node(\"calculate_boundary_percentage\",calculate_boundary_percentage)\n",
    "graph.add_node(\"summary\",summary)\n",
    "\n",
    "# carete edges\n",
    "graph.add_edge(START, \"calculate_sr\")\n",
    "graph.add_edge(START, \"calculate_bpb\")\n",
    "graph.add_edge(START, \"calculate_boundary_percentage\")\n",
    "\n",
    "graph.add_edge(\"calculate_sr\", \"summary\")\n",
    "graph.add_edge(\"calculate_bpb\", \"summary\")\n",
    "graph.add_edge(\"calculate_boundary_percentage\", \"summary\")\n",
    "graph.add_edge(\"summary\", END)\n",
    "\n",
    "# Compile graph\n",
    "workflow=graph.compile()\n",
    "\n"
   ]
  },
  {
   "cell_type": "code",
   "execution_count": 63,
   "id": "ceec6c97",
   "metadata": {},
   "outputs": [],
   "source": [
    "initial_state={\n",
    "    \"runs\": 100,\n",
    "    \"balls\": 50,\n",
    "    \"fours\": 6,\n",
    "    \"sixes\": 4 \n",
    "}\n",
    "final_state=workflow.invoke(initial_state)"
   ]
  },
  {
   "cell_type": "code",
   "execution_count": 64,
   "id": "6524b2c0",
   "metadata": {},
   "outputs": [
    {
     "name": "stdout",
     "output_type": "stream",
     "text": [
      "{'runs': 100, 'balls': 50, 'fours': 6, 'sixes': 4, 'sr': 200.0, 'bpb': 5.0, 'boundary_percentage': 48.0, 'summary': '\\n    Strike Rate : 200.0\\n\\n    Balls per boundary : 5.0\\n\\n    Boundary Percentage : 48.0\\n\\n    '}\n"
     ]
    }
   ],
   "source": [
    "print(final_state)"
   ]
  }
 ],
 "metadata": {
  "kernelspec": {
   "display_name": ".venv",
   "language": "python",
   "name": "python3"
  },
  "language_info": {
   "codemirror_mode": {
    "name": "ipython",
    "version": 3
   },
   "file_extension": ".py",
   "mimetype": "text/x-python",
   "name": "python",
   "nbconvert_exporter": "python",
   "pygments_lexer": "ipython3",
   "version": "3.12.3"
  }
 },
 "nbformat": 4,
 "nbformat_minor": 5
}
